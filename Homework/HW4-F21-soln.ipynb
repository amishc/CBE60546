{
  "nbformat": 4,
  "nbformat_minor": 0,
  "metadata": {
    "colab": {
      "name": "HW4-Solutions.ipynb",
      "provenance": [],
      "collapsed_sections": []
    },
    "kernelspec": {
      "display_name": "Python 3",
      "language": "python",
      "name": "python3"
    },
    "language_info": {
      "codemirror_mode": {
        "name": "ipython",
        "version": 3
      },
      "file_extension": ".py",
      "mimetype": "text/x-python",
      "name": "python",
      "nbconvert_exporter": "python",
      "pygments_lexer": "ipython3",
      "version": "3.7.3"
    }
  },
  "cells": [
    {
      "cell_type": "markdown",
      "metadata": {
        "id": "bJHo5qvTzUC4"
      },
      "source": [
        "# Advanced Chemical Reaction Engineering (CBE 60546)\n",
        "## Homework 4\n",
        "## Due October 1, 2021"
      ]
    },
    {
      "cell_type": "markdown",
      "metadata": {
        "id": "gxBa_tQVzUC8"
      },
      "source": [
        "**Carefully and neatly document your answers. You may use a mathematical solver like Jupyter/iPython. Use plotting software for all plots.**"
      ]
    },
    {
      "cell_type": "markdown",
      "metadata": {
        "id": "Qf9C--oQzUC9"
      },
      "source": [
        "$$\\require{mhchem}$$"
      ]
    },
    {
      "cell_type": "markdown",
      "metadata": {
        "id": "mg6utOz1zUC-"
      },
      "source": [
        "# 1 Its elementary, realy ..."
      ]
    },
    {
      "cell_type": "markdown",
      "metadata": {
        "id": "YSj-mqRnzUC-"
      },
      "source": [
        "### 1.1 Which of the following reactions can be assumed to be elementary? If it is elementary, indicate the molecularity. Briefly Justify your answers.\n",
        "\n",
        "$$\\ce{ O3(g) -> O2(g) + O(g)}$$\n",
        "$$\\ce{ 2H2(g) + O2(g) -> H2O(g)}$$\n",
        "$$\\ce{ 2NO(g) + O2(g) -> 2NO2(g)}$$\n",
        "$$\\ce{ H* + I2 -> HI + I*}$$\n",
        "$$\\ce{ 2Pt(111) + H2(g) -> 2Pt(111)-H}$$\n",
        "\n",
        "In the last example, Pt(111) indicates the surface of a Pt particle."
      ]
    },
    {
      "cell_type": "code",
      "metadata": {
        "id": "Lh2SYUn9zUC_"
      },
      "source": [
        "# Answer Here"
      ],
      "execution_count": null,
      "outputs": []
    },
    {
      "cell_type": "markdown",
      "metadata": {
        "id": "77e91XSccf1R"
      },
      "source": [
        "(1) $\\ce{ O3(g) -> O2(g) + O(g)}$ - This **is** an elementary reaction that is unimolecular. $\\ce{O}$ atom is not a stable specie and will be used in another step.\n",
        "\n",
        "(2) $\\ce{ 2H2(g) + O2(g) -> 2H2O(g)}$ - This **is not** an elementary reaction. This reaction would require several steps to break and reform bonds of reactants and intermediates.\n",
        "\n",
        "(3) $\\ce{ 2NO(g) + O2(g) -> 2NO2(g)}$ - This **is probably not** an elementary reaction as this too would seem to require several steps to break and reform bonds. Experimental evidence is inconclusive.\n",
        "\n",
        "(4) $\\ce{ H* + I2 -> HI + I*}$ - This **is** an elementray step that is bimolecular. This step describes the propogation of a radical from one species to another which is completed in a single step.\n",
        "\n",
        "(5) $\\ce{ 2Pt(111) + H2(g) -> 2Pt(111)-H}$ - Assuming the dissosiation occurs as the molecule adsorbs, this **is** a bimolecular elementary reaction. If the $\\ce{H2}$ molecule dissociates after adsorption, then it is not an elementary reaction. Effectively depends on conditions that you observe it at."
      ]
    },
    {
      "cell_type": "markdown",
      "metadata": {
        "id": "qiNSBPs3zUDA"
      },
      "source": [
        "# 2 The Path less traveled\n",
        "Chlorine monoxide, CLO, exhibits three different self-reaction channels:\n",
        "\n",
        "|     | &emsp;&emsp;$A$ (L mol$^{-1}$s$^{-1}$)&emsp;&emsp; | &emsp;&emsp;$E_{a}$ (kJ mol$^{-1}$)&emsp;&emsp; |\n",
        "|:--------------------------------:|:----------------------------:|:-----------------------:|\n",
        "| $\\ce{ClO* + ClO*->Cl2 + O2}$     | $ 6.08\\times10^{8}   $       |      $13.2$             |\n",
        "| $\\ce{ClO* + ClO*->Cl* + ClOO}$   | $ 1.79\\times10^{10}  $       |      $20.4$             |\n",
        "| $\\ce{ClO* + ClO*->Cl* + OClO}$   | $ 2.11\\times10^{8}   $       |      $11.4$             |\n"
      ]
    },
    {
      "cell_type": "markdown",
      "metadata": {
        "id": "LPKUf3EiUj3M"
      },
      "source": [
        "### 2.1 Make Arrhenius plots of the three reactions from 150 to 500K. Which reaction dominates at low temperature? At high temperature?"
      ]
    },
    {
      "cell_type": "code",
      "metadata": {
        "id": "Cv0dYRczzUDB",
        "colab": {
          "base_uri": "https://localhost:8080/",
          "height": 287
        },
        "outputId": "407d9718-c89c-46e6-beb1-c0b5bc898b45"
      },
      "source": [
        "# Arrhenius equation is: k = A*exp(Ea/R*T) (you can replace R for kb just make units match up correctly)\n",
        "# Solve for k for a set of T based on the table above\n",
        "\n",
        "import numpy as np\n",
        "from scipy import constants # easy way to get physical constants \n",
        "import matplotlib.pyplot as plt\n",
        "\n",
        "# get constants\n",
        "R = constants.physical_constants['molar gas constant'][0]/1000 # units are kJ mol^-1 K^-1\n",
        "\n",
        "Temp = np.linspace(150,500,100) # temperature range in K\n",
        "A = [6.08e8, 1.79e10,2.11e8] # Pre-exponential factor from table\n",
        "Ea = [13.2,20.4,11.4] # Activation energy from table above\n",
        "\n",
        "k0=[] # rate constants corresponding to the first reaction\n",
        "k1=[] # second reaction\n",
        "k2=[] # third reaction\n",
        "\n",
        "for t in Temp:\n",
        "    k0.append(A[0]*np.exp((-1*Ea[0])/(R*t))) # evaluate the Arrhenius equation and save results\n",
        "    k1.append(A[1]*np.exp((-1*Ea[1])/(R*t)))\n",
        "    k2.append(A[2]*np.exp((-1*Ea[2])/(R*t)))\n",
        "    \n",
        "# Arrhenius plots are present in log form\n",
        "    \n",
        "# Make one plot showing the entire range    \n",
        "plt.plot(1/Temp,np.log(k0),linestyle='dashed',linewidth=4,label='Reaction 1',color='red')   # plot k vs T\n",
        "plt.plot(1/Temp,np.log(k1),linestyle='dashed',linewidth=4,label='Reaction 2',color='blue')\n",
        "plt.plot(1/Temp,np.log(k2),linestyle='dashed',linewidth=4,label='Reaction 3',color='green')\n",
        "\n",
        "plt.xticks(size=14)\n",
        "plt.yticks(size=14)\n",
        "plt.xlabel('1/Temperature (K)',size=14)\n",
        "plt.ylabel(r'ln(Rate Constant) (L mol$^{-1}$ s$^{-1}$)',size=14)\n",
        "plt.show()"
      ],
      "execution_count": null,
      "outputs": [
        {
          "output_type": "display_data",
          "data": {
            "image/png": "[encoded data removed]",
            "text/plain": [
              "<Figure size 432x288 with 1 Axes>"
            ]
          },
          "metadata": {
            "needs_background": "light"
          }
        }
      ]
    },
    {
      "cell_type": "markdown",
      "metadata": {
        "id": "eRqEQPCIUj3P"
      },
      "source": [
        "### 2.2 Can Collision theory account for the variations in rate constants amongst the three reactions? Why or Why not?"
      ]
    },
    {
      "cell_type": "code",
      "metadata": {
        "id": "3FHH8qU6Uj3Q"
      },
      "source": [
        "# Answer Here"
      ],
      "execution_count": null,
      "outputs": []
    },
    {
      "cell_type": "markdown",
      "metadata": {
        "id": "9LMkXno-cyx_"
      },
      "source": [
        "Not really. Collision theory relates rates to rates of collision; it has no way to account for the same colliding species to give different products. "
      ]
    },
    {
      "cell_type": "markdown",
      "metadata": {
        "id": "jW-Jq6zeUj3Q"
      },
      "source": [
        "### 2.3 The rate constant for a gas-phase bimolecular reaction can be written within transition state theory (using an isobaric standard state) as shown below. Use the definition of $E_{a}$ to derive relationships between the Arrhenius parameters and the standard activation enthalpy, $\\Delta H^{\\circ\\ddagger}$ and standard activation entropy , $\\Delta S^{\\circ\\ddagger}$, at 1 bar standard state.\n",
        "\n",
        "$$ k = \\frac{k_{b}T}{h}(\\frac{RT}{P^{\\circ}})\\exp(\\frac{-\\Delta G^{\\circ\\ddagger}(T)}\"{k_{b}T})$$"
      ]
    },
    {
      "cell_type": "code",
      "metadata": {
        "id": "FtoMWC_pzUDK"
      },
      "source": [
        "# Answer here"
      ],
      "execution_count": null,
      "outputs": []
    },
    {
      "cell_type": "markdown",
      "metadata": {
        "id": "c-vGgHYXc6Ei"
      },
      "source": [
        "Using the equation above we can do the following: <br>\n",
        "(1) assuming equilibrium $\\Delta G^{\\circ \\ddagger}(T) = \\Delta H^{\\circ \\ddagger} - T\\Delta S^{\\circ \\ddagger}$ <br>\n",
        "(2) evaluate the derivate of the function with respect to T <br>\n",
        "<br>\n",
        "$$k = \\frac{k_{b}T}{h}(\\frac{RT}{P^{\\circ}})\\exp(\\frac{-\\Delta G^{\\circ \\ddagger}(T)}{k_{b}T})$$\n",
        "\n",
        "$$\\ln(k) = \\ln(\\frac{k_{b}RT^2}{hP^{\\circ}})+\\frac{-\\Delta G^{\\circ \\ddagger}(T)}{k_{b}T}$$\n",
        "\n",
        "$$\\ln(k) = \\ln(\\frac{k_{b}RT^2}{hP^{\\circ}})+\\frac{-\\Delta H^{\\circ \\ddagger}}{k_{b}T}+\\frac{\\Delta S^{\\circ \\ddagger}}{k_{b}}$$\n",
        "\n",
        "$$\\frac{\\partial}{\\partial T}\\ln(k) = \\frac{\\partial}{\\partial T}(\\ln(\\frac{k_{b}RT^2}{hP^{\\circ}})+\\frac{-\\Delta H^{\\circ \\ddagger}}{k_{b}T}+\\frac{\\Delta S^{\\circ \\ddagger}}{k_{b}})$$\n",
        "\n",
        "$$\\frac{\\partial}{\\partial T}\\ln(k) = (\\frac{hP^{\\circ}}{k_{b}RT^2}\\frac{2k_{b}RT}{hP^{\\circ}}+\\frac{\\Delta H^{\\circ \\ddagger}}{k_{b}T^2}+0)$$\n",
        "<br>\n",
        "Some units cancel, and we get the relationship:\n",
        "$$\\frac{\\partial}{\\partial T}\\ln(k) = (\\frac{2}{T}+\\frac{\\Delta H^{\\circ \\ddagger}}{k_{b}T^2})$$\n",
        "<br>\n",
        "We can follow the same proceedures for the Arrhenius equation (but it is much simplier)\n",
        "$$k = A \\exp(\\frac{-E_a}{k_{b}T})$$\n",
        "$$\\ln(k) = \\ln (A) + \\frac{-E_a}{k_{b}T}$$\n",
        "$$\\frac{\\partial}{\\partial T}\\ln(k) = \\frac{\\partial}{\\partial T}(\\ln (A) + \\frac{-E_a}{k_{b}T})$$\n",
        "$$\\frac{\\partial}{\\partial T}\\ln(k) = (0 + \\frac{E_a}{k_{b}T^2})$$\n",
        "<br>\n",
        "By setting the two equations equal to each other, we get: <br>\n",
        "$$ \\frac{2}{T}+\\frac{\\Delta H^{\\circ \\ddagger}}{k_{b}T^2} = \\frac{E_a}{k_{b}T^2} $$\n",
        "<br>\n",
        "and by some simple manipulation, we get:\n",
        "$$ \\frac{2k_{b}T}{k_{b}T^2}+\\frac{\\Delta H^{\\circ \\ddagger}}{k_{b}T^2} = \\frac{E_a}{k_{b}T^2} $$ <br>\n",
        "$$ 2k_{b}T+\\Delta H^{\\circ \\ddagger} = E_a $$\n",
        "<br>\n",
        "And thus, $ E_a = 2k_{b}T + \\Delta H$ or  $ E_a = 2RT + \\Delta H$ the entropy of activation can be evaluated by back solving into one of the equations above"
      ]
    },
    {
      "cell_type": "markdown",
      "metadata": {
        "id": "5HOezZ6ezUDL"
      },
      "source": [
        "### 2.4 Calculate $\\Delta H^{\\circ}$ (transition state) and $\\Delta S^{\\circ}$ (transition state) of the three reactions."
      ]
    },
    {
      "cell_type": "code",
      "metadata": {
        "id": "Zw50wMHOzUDM",
        "colab": {
          "base_uri": "https://localhost:8080/"
        },
        "outputId": "0b390740-1581-45ac-ee1d-cf59f4975813"
      },
      "source": [
        "# Evaluate H using the relationship from above\n",
        "H0 = Ea[0] - (2*R*Temp) # Enthalpy for reaction 1\n",
        "H1 = Ea[1] - (2*R*Temp) # reation 2\n",
        "H2 = Ea[2] - (2*R*Temp) # reaction 3\n",
        "\n",
        "print('Reaction 1 has an enthalpy of {0:.2f} kJ/mol at 298K'.format(H0[42])) # value H0[42] corresponds to the enthalpy at 298 K\n",
        "print('Reaction 2 has an enthalpy of {0:.2f} kJ/mol at 298K'.format(H1[42]))\n",
        "print('Reaction 3 has an enthalpy of {0:.2f} kJ/mol at 298K'.format(H2[42]))"
      ],
      "execution_count": null,
      "outputs": [
        {
          "output_type": "stream",
          "name": "stdout",
          "text": [
            "Reaction 1 has an enthalpy of 8.24 kJ/mol at 298K\n",
            "Reaction 2 has an enthalpy of 15.44 kJ/mol at 298K\n",
            "Reaction 3 has an enthalpy of 6.44 kJ/mol at 298K\n"
          ]
        }
      ]
    },
    {
      "cell_type": "markdown",
      "metadata": {
        "id": "yfxCOc0gdgOx"
      },
      "source": [
        "To evaluate $\\Delta S^{\\circ}$, we need to rearrange $$\\ln(k) = \\ln(\\frac{k_{b}RT^2}{hP^{\\circ}})+\\frac{-\\Delta H^{\\circ \\ddagger}}{k_{b}T}+\\frac{\\Delta S^{\\circ \\ddagger}}{k_{b}}$$ <br>\n",
        "\n",
        "$$\\Delta S^{\\circ \\ddagger} = (\\ln(k) - \\ln(\\frac{k_{b}RT^2}{hP^{\\circ}}))k_{b}+\\frac{\\Delta H^{\\circ \\ddagger}}{T}$$\n",
        "\n",
        "$$\\Delta S^{\\circ \\ddagger} = (\\ln(\\frac{k}{\\frac{k_{b}RT^2}{hP^{\\circ}}}))k_{b}+\\frac{\\Delta H^{\\circ \\ddagger}}{T}$$\n",
        "<br> \n",
        "**Be careful with units**"
      ]
    },
    {
      "cell_type": "code",
      "metadata": {
        "colab": {
          "base_uri": "https://localhost:8080/"
        },
        "id": "O-dybMrJdfw2",
        "outputId": "22f335b6-27ec-4132-e340-fec11e12cb18"
      },
      "source": [
        "kb = constants.physical_constants['Boltzmann constant'][0] # J K^-1\n",
        "h = constants.physical_constants['Planck constant'][0] # J sec \n",
        "bar_pas = constants.bar # conversion between bar and pascall\n",
        "liter_m3 = constants.liter # conversion between liter and m^3\n",
        "Na = constants.physical_constants['Avogadro constant'][0] #avogadro constant (mol^-1)\n",
        "\n",
        "# Evaluate the three components separatley\n",
        "\n",
        "# ln(k)\n",
        "logk0 = np.array(k0)*liter_m3 # reaction 1 units m^3 mol^-1 sec^-1\n",
        "logk1 = np.array(k1)*liter_m3 # reaction 2\n",
        "logk2 = np.array(k2)*liter_m3 # reaction 3\n",
        "\n",
        "# ln(constants)\n",
        "logCon = (kb*(R*1000)*(Temp**2))/(h*bar_pas) # units m^3 mol^-1 sec^-1\n",
        "\n",
        "# enthalpy term\n",
        "H_T0 = H0*1000/Temp\n",
        "H_T1 = H1*1000/Temp\n",
        "H_T2 = H2*1000/Temp\n",
        "\n",
        "S0 = np.log(logk0/logCon)*kb*Na + H_T0 # units are in J mol^-1 K^-1\n",
        "S1 = np.log(logk1/logCon)*kb*Na + H_T1\n",
        "S2 = np.log(logk2/logCon)*kb*Na + H_T2\n",
        "\n",
        "print('Reaction 1 has an entropy of {0:.2f} J/mol K at 298K'.format(S0[42]))\n",
        "print('Reaction 2 has an entropy of {0:.2f} J/mol K at 298K'.format(S1[42]))\n",
        "print('Reaction 3 has an entropy of {0:.2f} J/mol K at 298K'.format(S2[42]))"
      ],
      "execution_count": null,
      "outputs": [
        {
          "output_type": "stream",
          "name": "stdout",
          "text": [
            "Reaction 1 has an entropy of -120.10 J/mol K at 298K\n",
            "Reaction 2 has an entropy of -91.98 J/mol K at 298K\n",
            "Reaction 3 has an entropy of -128.90 J/mol K at 298K\n"
          ]
        }
      ]
    },
    {
      "cell_type": "markdown",
      "metadata": {
        "id": "I0iUNMGyzUDN"
      },
      "source": [
        "### 2.5 Using chemical intuition and the calculated $\\Delta S^{\\circ}$ (transition state) as guides, draw candidate transition state structures for each of the three reactions. Include arrows to show motion along the reaction coordinates."
      ]
    },
    {
      "cell_type": "code",
      "metadata": {
        "id": "wWCc_WmdzUDN"
      },
      "source": [
        "# see the attached pdf document"
      ],
      "execution_count": null,
      "outputs": []
    },
    {
      "cell_type": "markdown",
      "metadata": {
        "id": "tz1iUTkFUj3T"
      },
      "source": [
        "### 2.6 following is some thermodynamic data. Use it to sketch/dra/plot a potential enthalpy surface for the three reactions and a potential free energy surface for the three eactions at 298 K.\n",
        "\n",
        "|     |  &emsp;&emsp; $\\Delta H^{\\circ}_{f}(298K)$ (kJ mol$^{-1}$) &emsp;&emsp;  |  &emsp;&emsp; $\\Delta S^{\\circ}_{f}(298K)$ (J mol$^{-1}$) &emsp;&emsp;  |\n",
        "|:--------------------------------:|:----------------------------:|:-----------------------:|\n",
        "| $\\ce{ClO*}$  |  $101.22$  |  $226.65$  |\n",
        "| $\\ce{OClO*}$  |  $104.60$  |  $257.22$  |\n",
        "| $\\ce{ClO2}$  |  $98.0$  |  $269.32$  |\n",
        "| $\\ce{Cl}$  |  $121.3$  |  $165.19$  |\n",
        "| $\\ce{Cl2}$  |  $0$  |  $223.08$  |\n",
        "| $\\ce{O2}$  |  $0$  |  $205.15$  |"
      ]
    },
    {
      "cell_type": "code",
      "metadata": {
        "id": "p7Z6hwGGUj3U",
        "colab": {
          "base_uri": "https://localhost:8080/",
          "height": 266
        },
        "outputId": "95846b43-1485-488f-8031-fcd526079877"
      },
      "source": [
        "# Enthalpy PES\n",
        "H_ClO = 101.22\n",
        "H_OClO = 104.60\n",
        "H_ClO2 = 98.0\n",
        "H_Cl = 121.3\n",
        "H_Cl2 = 0\n",
        "H_O2 = 0\n",
        "\n",
        "H0_react = H_ClO * 2 # location of the reactants\n",
        "H0_react_trans = H0_react + H0[42] # from question 2.3 (How does the TS change)\n",
        "H0_prod =  H_Cl2 + H_O2\n",
        "\n",
        "H1_react = H_ClO * 2 \n",
        "H1_react_trans = H1_react + H1[42] \n",
        "H1_prod =  H_Cl + H_ClO2\n",
        "\n",
        "H2_react = H_ClO * 2 \n",
        "H2_react_trans = H2_react + H2[42] \n",
        "H2_prod =  H_Cl + H_OClO \n",
        "\n",
        "\n",
        "plt.plot([0,1,2],[H0_react,H0_react_trans,H0_prod],color='red',marker='o',\n",
        "         markersize=10,linestyle='dashed',linewidth=4,label = 'Reaction 1')\n",
        "plt.plot([0,1,2],[H1_react,H1_react_trans,H1_prod],color='blue',marker='o',\n",
        "         markersize=10,linestyle='dashed',linewidth=4,label = 'Reaction 2')\n",
        "plt.plot([0,1,2],[H2_react,H2_react_trans,H2_prod],color='green',marker='o',\n",
        "         markersize=10,linestyle='dashed',linewidth=4,label = 'Reaction 3')\n",
        "plt.legend()\n",
        "plt.ylabel('Reaction Enthalpy (kJ/mol)',size=14)\n",
        "plt.xlabel('Reaction Coordinate',size=14)\n",
        "plt.xticks([])\n",
        "plt.yticks(size=14)\n",
        "plt.show()\n"
      ],
      "execution_count": null,
      "outputs": [
        {
          "output_type": "display_data",
          "data": {
            "image/png": "[encoded data removed]",
            "text/plain": [
              "<Figure size 432x288 with 1 Axes>"
            ]
          },
          "metadata": {
            "needs_background": "light"
          }
        }
      ]
    },
    {
      "cell_type": "code",
      "metadata": {
        "colab": {
          "base_uri": "https://localhost:8080/",
          "height": 266
        },
        "id": "I3b9hCcDeEi6",
        "outputId": "faf6f8d5-3cae-4630-f9f2-97eee98454ab"
      },
      "source": [
        "# Free Energy PES\n",
        "G_ClO = H_ClO - (298*.22665) #kJ/mol\n",
        "G_OClO = H_OClO - (298*.25722)\n",
        "G_ClO2 = H_ClO2 - (298*.26932)\n",
        "G_Cl = H_Cl - (298*.16519)\n",
        "G_Cl2 = H_Cl2 - (298*.22308)\n",
        "G_O2 = H_O2 - (298*.20515)\n",
        "\n",
        "G0_react = (G_ClO*2)\n",
        "\n",
        "G0 = H0[42] - (298*S0[42]/1000) + (G_ClO*2)\n",
        "G1 = H1[42] - (298*S1[42]/1000) + (G_ClO*2)\n",
        "G2 = H2[42] - (298*S2[42]/1000) + (G_ClO*2)\n",
        "\n",
        "G0_prod = G_Cl2 + G_O2\n",
        "G1_prod = G_Cl + G_ClO2\n",
        "G2_prod = G_Cl + G_OClO\n",
        "\n",
        "plt.plot([0,1,2],[G0_react,G0,G0_prod],color='red',marker='o',\n",
        "         markersize=10,linestyle='dashed',linewidth=4,label = 'Reaction 1')\n",
        "plt.plot([0,1,2],[G0_react,G1,G1_prod],color='blue',marker='o',\n",
        "         markersize=10,linestyle='dashed',linewidth=4,label = 'Reaction 2')\n",
        "plt.plot([0,1,2],[G0_react,G2,G2_prod],color='green',marker='o',\n",
        "         markersize=10,linestyle='dashed',linewidth=4,label = 'Reaction 3')\n",
        "plt.legend()\n",
        "plt.ylabel('Reaction Free Energy (kJ/mol)',size=14)\n",
        "plt.xlabel('Reaction Coordinate',size=14)\n",
        "plt.xticks([])\n",
        "plt.yticks(size=14)\n",
        "plt.show()\n"
      ],
      "execution_count": null,
      "outputs": [
        {
          "output_type": "display_data",
          "data": {
            "image/png": "[encoded data removed]",
            "text/plain": [
              "<Figure size 432x288 with 1 Axes>"
            ]
          },
          "metadata": {
            "needs_background": "light"
          }
        }
      ]
    },
    {
      "cell_type": "markdown",
      "metadata": {
        "id": "Rkc7WP9FUj3V"
      },
      "source": [
        "# What do I get in compensation?\n",
        "Following are some observed data for the dehydrogenation of $\\textit{iso}$-propanol, $\\ce{CH3CH(OH)CH3 -> CH3C(O)CH3 + H2}$, over a series of catalysts:\n",
        "\n",
        "| &emsp;&emsp;$A$ (s$^{-1}$)&emsp;&emsp; | &emsp;&emsp;$E_{a}$ (kJ mol$^{-1}$)&emsp;&emsp; |\n",
        "|:----------------------------:|:-----------------------:|\n",
        "| $ 4.3\\times10^{12}   $       |      $172$             |\n",
        "| $ 2.3\\times10^{11}  $        |      $159$             |\n",
        "| $ 2.2\\times10^{10}   $       |      $146$             |\n",
        "| $ 1.6\\times10^{9}   $        |      $134$             |"
      ]
    },
    {
      "cell_type": "markdown",
      "metadata": {
        "id": "govucl85Uj3W"
      },
      "source": [
        "### 3.1 What can you say about the relationship between $\\Delta H^{\\circ\\ddagger}$ (transition state) and $\\Delta S^{\\circ\\ddagger}$ (transition state)"
      ]
    },
    {
      "cell_type": "code",
      "metadata": {
        "id": "PY_UvsM2MJj7"
      },
      "source": [
        "# Customize the figure to plot; just to make things pretty. Not mandatory.\n",
        "from matplotlib.ticker import FormatStrFormatter\n",
        "from matplotlib.pyplot import *\n",
        "\n",
        "font = {'family' : 'DejaVu Sans',\n",
        "        'weight' : 'normal',\n",
        "        'size'   : 15}\n",
        "rcParams['axes.linewidth'] = 2\n",
        "rcParams['lines.linewidth'] = 2\n",
        "rcParams['lines.markersize'] = 8\n",
        "rcParams['xtick.major.width'] = 2\n",
        "rcParams['ytick.major.width'] = 2\n",
        "matplotlib.rc('font', **font)\n",
        "rcParams['figure.figsize'] = (4, 4)"
      ],
      "execution_count": null,
      "outputs": []
    },
    {
      "cell_type": "code",
      "metadata": {
        "id": "HFlcTZp0N9hE"
      },
      "source": [
        "from sklearn.metrics import r2_score"
      ],
      "execution_count": null,
      "outputs": []
    },
    {
      "cell_type": "code",
      "metadata": {
        "colab": {
          "base_uri": "https://localhost:8080/",
          "height": 295
        },
        "id": "-nmLXq7hMkmw",
        "outputId": "b507d8e8-b132-4416-ab8a-eb616e3e1920"
      },
      "source": [
        "A = np.array([4.3* 10**12,2.3* 10**11,2.2* 10**10,1.6* 10**9]) \n",
        "Ea = np.array([172,159,146,134])\n",
        "\n",
        "# k = A exp(-Ea/RT) = kB*T/h exp(delta S ddagger/R) exp(-delta H ddagger/RT)\n",
        "# Ea is approximately equal to delta H ddagger. ln A = ln(kB*T/h)+delta S ddagger/R.\n",
        "# ln(kB*T/h) is approximately 30. delta S ddagger = (lnA-30)*R\n",
        "# Plot lnA vs Ea since k = A exp(-Ea/RT)\n",
        "lnA = np.log(A)\n",
        "deltaH = Ea\n",
        "deltaS = (lnA-30)*8.314\n",
        "plt.plot(deltaH,deltaS, 'o', label = 'Observation')\n",
        "\n",
        "# Fit the observations with a linear line\n",
        "linear_model=np.polyfit(deltaH,deltaS,1)\n",
        "linear_model_fn=np.poly1d(linear_model)\n",
        "# x_s=np.arange(20,31)\n",
        "# Plot and add R2 in the label\n",
        "R2 = r2_score(linear_model_fn(deltaH),deltaS)\n",
        "plt.plot(deltaH,linear_model_fn(deltaH),c='tab:red',label='Linear Fit, \\nR$^2$={:.3f}'.format(R2))\n",
        "\n",
        "plt.legend(fontsize=12)\n",
        "plt.ylabel('$\\Delta S^{\\circ\\u2021}$, J/(mol K)')\n",
        "plt.xlabel('$\\Delta H^{\\circ\\u2021}$, kJ/mol')\n",
        "plt.show()"
      ],
      "execution_count": null,
      "outputs": [
        {
          "output_type": "display_data",
          "data": {
            "image/png": "[encoded data removed]",
            "text/plain": [
              "<Figure size 288x288 with 1 Axes>"
            ]
          },
          "metadata": {
            "needs_background": "light"
          }
        }
      ]
    },
    {
      "cell_type": "markdown",
      "metadata": {
        "id": "UPehTdNfSJHN"
      },
      "source": [
        "### We can say there is a compensation relationship between the apparent pre-exponential factor and apparent activation energy. There is likely a compensation relationship between $\\Delta H^{\\circ\\ddagger}_{p}$ (transition state) and $\\Delta S^{\\circ\\ddagger}$ (transition state) of the rate-controlling step."
      ]
    },
    {
      "cell_type": "markdown",
      "metadata": {
        "id": "G8tZxjNiUj3W"
      },
      "source": [
        "# 4 The Radical Path\n",
        "At high temperature, ethylene can be hydrogenated to ethane. The proposed mechanism has four steps, all of which are presumed to be elementary and essentially irreversible under realistic conditions.\n",
        "\n",
        "$$ \\ce{C2H4(g) + H2(g) ->[k_{1}] C2H5*(g) + H*(g)} $$\n",
        "<br>\n",
        "$$ \\ce{H*(g) + C2H4(g) ->[k_{2}] C2H5*(g)} $$\n",
        "<br>\n",
        "$$ \\ce{C2H5*(g) + H2(g) ->[k_{3}] C2H6(g) + H*(g)} $$\n",
        "<br>\n",
        "$$ \\ce{C2H5*(g) + H*(g) ->[k_{4}] C2H6(g)} $$"
      ]
    },
    {
      "cell_type": "markdown",
      "metadata": {
        "id": "Q1af_DQJUj3X"
      },
      "source": [
        "### 4.1 Identify the reactants, products, and intermediates, and state whether the mechanism is open or closed."
      ]
    },
    {
      "cell_type": "code",
      "metadata": {
        "id": "z7tW2wrfzUDO",
        "colab": {
          "base_uri": "https://localhost:8080/"
        },
        "outputId": "aa413abe-29b7-49d4-8d2f-8e5015c3624e"
      },
      "source": [
        "# Answer Here\n",
        "print (\"Reactants are C2H4 and H2, product is C2H6 and intermediates are H and C2H5 radicals.\")\n",
        "print (\"The mechanism is open. reaction 1 + reaction 4 = overall reaction and reaction 2 + reaction 3 = overall reaction.\")"
      ],
      "execution_count": null,
      "outputs": [
        {
          "output_type": "stream",
          "name": "stdout",
          "text": [
            "Reactants are C2H4 and H2, product is C2H6 and intermediates are H and C2H5 radicals.\n",
            "The mechanism is open. reaction 1 + reaction 4 = overall reaction and reaction 2 + reaction 3 = overall reaction.\n"
          ]
        }
      ]
    },
    {
      "cell_type": "markdown",
      "metadata": {
        "id": "FhC6TvSmzUDO"
      },
      "source": [
        "### 4.2 Why is it reasonable to assume that the first reaction is irreversible (that is, that the forward reaction rate is much greater than the reverse)? What about the second reaction?"
      ]
    },
    {
      "cell_type": "code",
      "metadata": {
        "id": "Z8BQbWTDUj3Y",
        "colab": {
          "base_uri": "https://localhost:8080/"
        },
        "outputId": "5deb9414-a9f6-43ad-a6b3-dfc51cc88603"
      },
      "source": [
        "print ('1. Densities of C2H5 and H are small.\\nThe reverse reaction will likely have a very negative reaction enthalpy since both reactants are radicals.\\nThe energy released from the reversed reaction cannot be easily dissipated to the formed C2H4 and H2.')\n",
        "\n",
        "print ('2. The second reaction could be irreversible.\\nC-H bond (with high bond strength) breakage in a C2H5 molecule without a collision is unlikely.\\nDensity of C2H5 is small and the rate is low. H density is also small, but C2H4 density is large.')"
      ],
      "execution_count": null,
      "outputs": [
        {
          "output_type": "stream",
          "name": "stdout",
          "text": [
            "1. Densities of C2H5 and H are small.\n",
            "The reverse reaction will likely have a very negative reaction enthalpy since both reactants are radicals.\n",
            "The energy released from the reversed reaction can not be easily dissipated to the formed C2H4 and H2.\n",
            "2. The second reaction could be irreversible.\n",
            "C-H bond (with high bond strength) breakage in a C2H5 molecule without a collision is unlikely.\n",
            "Density of C2H5 is small and the rate is low. H density is also small, but C2H4 density is large.\n"
          ]
        }
      ]
    },
    {
      "cell_type": "markdown",
      "metadata": {
        "id": "LhMAWIFZUj3Y"
      },
      "source": [
        "### 4.3 Based on the mechanism above, write an expression for the rate of disapearance of ethylene."
      ]
    },
    {
      "cell_type": "markdown",
      "metadata": {
        "id": "VKIYy12Pmlzv"
      },
      "source": [
        "$\\frac{dC_{\\ce{C2H4}}}{dt} = -k_1 C_{\\ce{C2H4}}C_{\\ce{H2}}-k_2 C_{\\ce{C2H4}}C_{\\ce{H*}}$"
      ]
    },
    {
      "cell_type": "markdown",
      "metadata": {
        "id": "ntfMGdtvUj3Z"
      },
      "source": [
        "### 4.4 Apply the quasi-steady-state approximation seperately to H atoms and ethyl radicals. Use the results to derive expressions for the concentrations of each in terms of only reactants and products."
      ]
    },
    {
      "cell_type": "markdown",
      "metadata": {
        "id": "qWoz5-jIoCPP"
      },
      "source": [
        "$\\frac{dC_{\\ce{C2H5*}}}{dt} = k_1 C_{\\ce{C2H4}}C_{\\ce{H2}}+k_2 C_{\\ce{C2H4}}C_{\\ce{H*}}-k_3 C_{\\ce{C2H5*}}C_{\\ce{H2}}-k_4 C_{\\ce{C2H5*}}C_{\\ce{H*}}$ (1)\n",
        "\n",
        "$\\frac{dC_{\\ce{H*}}}{dt} = k_1 C_{\\ce{C2H4}}C_{\\ce{H2}}-k_2 C_{\\ce{C2H4}}C_{\\ce{H*}}+k_3 C_{\\ce{C2H5*}}C_{\\ce{H2}}-k_4 C_{\\ce{C2H5*}}C_{\\ce{H*}}$ (2)\n",
        "\n",
        "At quasi-steady-state, concentrations of intermediates are constants.\n",
        "\n",
        "$\\frac{dC_{\\ce{C2H5*}}}{dt} = 0$ \n",
        "\n",
        "$\\frac{dC_{\\ce{H*}}}{dt} = 0 $\n",
        "\n",
        "Solve the two algebraic equations with two unknowns. \n",
        "\n",
        "$C_{\\ce{H*}} = \\sqrt{\\frac{k_1k_3}{k_2k_4}}C_{\\ce{H2}}$\n",
        "\n",
        "$C_{\\ce{C2H5*}} = \\sqrt{\\frac{k_1k_2}{k_3k_4}}C_{\\ce{C2H4}}$"
      ]
    },
    {
      "cell_type": "markdown",
      "metadata": {
        "id": "5vceudZpUj3a"
      },
      "source": [
        "### 4.5 Combine your answers to obtain an expression for the rate of disapearance of ethylene that involves only reactants and products. What is the apparent reaction order with respect to $\\ce{H2}$? To $\\ce{C2H4}$?"
      ]
    },
    {
      "cell_type": "markdown",
      "metadata": {
        "id": "SGdVVF9as7ot"
      },
      "source": [
        "$\\frac{dC_{\\ce{C2H4}}}{dt} = -k_1 C_{\\ce{C2H4}}C_{\\ce{H2}}-k_2 C_{\\ce{C2H4}}C_{\\ce{H*}} = -k_1 C_{\\ce{C2H4}}C_{\\ce{H2}} - k_2 C_{\\ce{C2H4}}\\sqrt{\\frac{k_1k_3}{k_2k_4}}C_{\\ce{H2}}$\n",
        "\n",
        "$\\frac{dC_{\\ce{C2H4}}}{dt}  = \\left(-k_1- \\sqrt{\\frac{k_1k_2k_3}{k_4}}\\right)C_{\\ce{C2H4}}C_{\\ce{H2}}$\n",
        "\n",
        "Apparent orders with $\\ce{H2}$ and $\\ce{C2H4}$ are both 1."
      ]
    },
    {
      "cell_type": "markdown",
      "metadata": {
        "id": "KIymu_YWUj3a"
      },
      "source": [
        "### 4.6 What is the apparent rate constant? Do you expect it to exhibit Arrhenius behavior in general?"
      ]
    },
    {
      "cell_type": "markdown",
      "metadata": {
        "id": "IJpFe0yxuJl0"
      },
      "source": [
        "Apparent rate constant is $k_1 + \\sqrt{\\frac{k_1k_2k_3}{k_4}}$.\n",
        "\n",
        "Even if each k is Arrhenius, the combination is not."
      ]
    },
    {
      "cell_type": "markdown",
      "metadata": {
        "id": "1ZRurUuPUj3a"
      },
      "source": [
        "### 4.7 Ethane dissociation $\\ce{C2H6 -> 2 CH3}$ is a key step in the initiation of gas-phase ethane reactions. If the reaction is observed in a diluent, say $\\ce{N2}$, the rate is found to be a function of total pressure and to reach a limiting value at high pressure. Why? Can you propose a simple model for this behavior?"
      ]
    },
    {
      "cell_type": "markdown",
      "metadata": {
        "id": "FuWTTt-kyy46"
      },
      "source": [
        "$\\ce{C2H6 + N2 <-> C2H6^\\ast + N2}$\n",
        "\n",
        "$\\ce{C2H6^\\ast -> 2CH3}$\n",
        "\n",
        "$\\frac{dC_{\\ce{C2H6}*}}{dt} = k_1C_{\\ce{C2H6}}C_{\\ce{N2}}-k_{-1}C_{\\ce{C2H6}*}C_{\\ce{N2}}-k_2C_{\\ce{C2H6}*}$\n",
        "\n",
        "At steady state, $\\frac{dC_{\\ce{C2H6}*}}{dt}=0$\n",
        "\n",
        "$C_{\\ce{C2H6}*} = \\frac{k_1C_{\\ce{C2H6}}C_{\\ce{N2}}}{k_{-1}C_{\\ce{N2}}+k_2}$\n",
        "\n",
        "$\\frac{dC_{\\ce{CH3}}}{dt} = 2\\frac{k_2k_1C_{\\ce{C2H6}}C_{\\ce{N2}}}{k_{-1}C_{\\ce{N2}}+k_2}$\n",
        "\n",
        "When $C_{\\ce{N2}}$ is small, total pressure impacts the rate of $\\ce{CH3}$ generation. \n",
        "\n",
        "When $C_{\\ce{N2}}$ is large but $C_{\\ce{C2H6}}$ is a constant, $\\frac{dC_{\\ce{CH3}}}{dt} = 2\\frac{k_2k_1C_{\\ce{C2H6}}}{k_{-1}}$. The rate will reach a limiting value.\n"
      ]
    }
  ]
}