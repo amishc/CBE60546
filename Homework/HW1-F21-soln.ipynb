{
  "nbformat": 4,
  "nbformat_minor": 0,
  "metadata": {
    "kernelspec": {
      "display_name": "Python 3",
      "language": "python",
      "name": "python3"
    },
    "language_info": {
      "codemirror_mode": {
        "name": "ipython",
        "version": 3
      },
      "file_extension": ".py",
      "mimetype": "text/x-python",
      "name": "python",
      "nbconvert_exporter": "python",
      "pygments_lexer": "ipython3",
      "version": "3.7.6"
    },
    "colab": {
      "name": "Homework_1_solutions_jerry_Hanyu.ipynb",
      "provenance": [],
      "collapsed_sections": []
    }
  },
  "cells": [
    {
      "cell_type": "markdown",
      "metadata": {
        "id": "YU_oJBcxQNP7"
      },
      "source": [
        "# Advanced Chemical Reaction Engineering\n",
        "## Homework 1\n",
        "## Due September 1st, 2021\n",
        "Solve each problem on separate sheets of paper, and clearly indicate the problem number and your name on each. Carefully and neatly document your answers. You may use a mathematical solver like Jupyter/iPython. Use plotting software for all plots."
      ]
    },
    {
      "cell_type": "code",
      "metadata": {
        "id": "U7nN_B9DQNP7"
      },
      "source": [
        "import matplotlib.pyplot as plt\n",
        "import numpy as np"
      ],
      "execution_count": 18,
      "outputs": []
    },
    {
      "cell_type": "markdown",
      "metadata": {
        "id": "eUrKci-IQNP7"
      },
      "source": [
        "$$\\require{mhchem}$$    "
      ]
    },
    {
      "cell_type": "markdown",
      "metadata": {
        "id": "xa7jw5QzQNP7"
      },
      "source": [
        "# 1: All in balance\n",
        "**1.1: One way under consideration for removing harmful \"NO<sub>x</sub>\" (NO + NO<sub>2</sub>) from flue gas is the thermal deNOx process, in which NH<sub>3</sub> is used to reduce the NO to NO<sub>2</sub>:**\n",
        "\n",
        "$\\ce{{\\_}NO(g) + {\\_}O2(g) + {\\_}NH3(g) -> {\\_}N2(g) + {\\_}H2O(g)}$\n",
        "\n",
        "The research lab has several gas tanks available to study this reaction, including one containing 2.0% NO in an N<sub>2</sub> diluent, one containing 10% O<sub>2</sub> in an N<sub>2</sub> diluent, and a bottle of 4% anhydrous ammonia in N<sub>2</sub>. You can assume all gases behave ideally."
      ]
    },
    {
      "cell_type": "markdown",
      "metadata": {
        "id": "eaPiidLkQNP8"
      },
      "source": [
        "### 1. Balance the thermal deNOx reaction, assuming each NH<sub>3</sub> titrates one NO."
      ]
    },
    {
      "cell_type": "markdown",
      "metadata": {
        "id": "6poARlXhQNP8"
      },
      "source": [
        "$\\ce{2NO(g) + 1/2O2(g) + 2NH3(g) -> 2N2(g) + 3H2O(g)}$"
      ]
    },
    {
      "cell_type": "markdown",
      "metadata": {
        "id": "9FzmxGh-QNP8"
      },
      "source": [
        "### 2. What mass flow rates are necessary to create a stoichiometric mixture at 1 bar total pressure, 400ºC, and 10L/s total volumetric flow rate?"
      ]
    },
    {
      "cell_type": "code",
      "metadata": {
        "id": "eVaaxH1mQNP8",
        "colab": {
          "base_uri": "https://localhost:8080/",
          "height": 0
        },
        "outputId": "cdb5c554-ff7e-47cd-bddf-c28f49e34580"
      },
      "source": [
        "# Ideal Gas Law: PV=nRT\n",
        "R = .0831451 #L bar K-1 mol-1\n",
        "P = 1 #bar\n",
        "V = 10 #L/s\n",
        "T = 673 #K\n",
        "n = round((P*V)/(R*T),2) #moles/s\n",
        "print('Total Molar Flow Rate =',n,'moles/s')\n",
        "\n",
        "'''\n",
        "First find the molar flow ratio of each of the tanks.\n",
        "Solve the system of equations:\n",
        ".02*tank1 + 0*tank2 + 0*tank3 = 2.   NO balance\n",
        "0*tank1 + 0.1*tank2 + 0*tank3 = .5  O2 balance\n",
        "0*tank1 + 0*tank2 + 0.04*tank3 = 2.  NH3 balance\n",
        "\n",
        "tank1 = 100.  # mol/s\n",
        "tank2 = 5.    # mol/s\n",
        "tank3 = 50.   # mol/s\n",
        "\n",
        "total = 155.  # mol/s\n",
        "ratios:\n",
        "tank1 = 100/155.  # fractional mol/s\n",
        "tank2 = 5/155\n",
        "tank3 = 50/155\n",
        "'''\n",
        "\n",
        "\n",
        "# Molar flow rate ratio for each tank\n",
        "no_n2_tank_ratio = 100/155.      \n",
        "o2_n2_tank_ratio = 5/155\n",
        "nh3_n2_container_ratio = 50/155\n",
        "\n",
        "'''\n",
        "Multiply those ratios by total molar flow rate \n",
        "to find rate coming from each tank.\n",
        "'''\n",
        "\n",
        "# Molar flow rate for each tank\n",
        "no_n2_molar_flow = no_n2_tank_ratio*n\n",
        "o2_n2_molar_flow = o2_n2_tank_ratio*n\n",
        "nh3_n2_molar_flow = nh3_n2_container_ratio*n\n",
        "\n",
        "# average mass of each tank\n",
        "no_n2_average_mass = .02*30.01+.98*28.0134 #g/mole\n",
        "o2_n2_average_mass = .1*15.999*2. + .9*28.0134\n",
        "nh3_n2_average_mass = .04*17.031 + .96*28.0134\n",
        "\n",
        "# mass flow rate of each tank\n",
        "no_n2_mass_flow = no_n2_molar_flow * no_n2_average_mass\n",
        "o2_n2_mass_flow = o2_n2_molar_flow * o2_n2_average_mass\n",
        "nh3_n2_mass_flow = nh3_n2_molar_flow * nh3_n2_average_mass\n",
        "\n",
        "\n",
        "print('Molar Flow Ratios From Each Tank:')\n",
        "print('Tank 1: ',no_n2_tank_ratio)\n",
        "print('Tank 2: ',o2_n2_tank_ratio)\n",
        "print('Tank 3: ',nh3_n2_container_ratio)\n",
        "\n",
        "print('Molar Flow Rate From Each Tank:')\n",
        "print('Tank 1: ',no_n2_molar_flow,'moles/s')\n",
        "print('Tank 2: ',o2_n2_molar_flow,'moles/s')\n",
        "print('Tank 3: ',nh3_n2_molar_flow,'moles/s')\n",
        "print('--------------------------------')\n",
        "print('Mass Flow Rate From Each Tank')\n",
        "print('Tank 1: ',no_n2_mass_flow,'g/s')\n",
        "print('Tank 2: ',o2_n2_mass_flow,'g/s')\n",
        "print('Tank 3: ',nh3_n2_mass_flow,'g/s')"
      ],
      "execution_count": 19,
      "outputs": [
        {
          "output_type": "stream",
          "name": "stdout",
          "text": [
            "Total Molar Flow Rate = 0.18 moles/s\n",
            "Molar Flow Ratios From Each Tank:\n",
            "Tank 1:  0.6451612903225806\n",
            "Tank 2:  0.03225806451612903\n",
            "Tank 3:  0.3225806451612903\n",
            "Molar Flow Rate From Each Tank:\n",
            "Tank 1:  0.11612903225806451 moles/s\n",
            "Tank 2:  0.005806451612903225 moles/s\n",
            "Tank 3:  0.058064516129032254 moles/s\n",
            "--------------------------------\n",
            "Mass Flow Rate From Each Tank\n",
            "Tank 1:  3.2578062967741936 g/s\n",
            "Tank 2:  0.16497209032258064 g/s\n",
            "Tank 3:  1.6010770064516127 g/s\n"
          ]
        }
      ]
    },
    {
      "cell_type": "markdown",
      "metadata": {
        "id": "3Y-Adc80QNP8"
      },
      "source": [
        "### 3. Plot the molar flow rates of all five gases as a function of reaction advancement."
      ]
    },
    {
      "cell_type": "code",
      "metadata": {
        "id": "mJVEfTnWQNP9",
        "colab": {
          "base_uri": "https://localhost:8080/",
          "height": 279
        },
        "outputId": "ccffb038-7a7c-4d74-c90e-07d39fdb034c"
      },
      "source": [
        "# Set up a vector to store advancement values\n",
        "# We don't know max advancement yet, unless you calculated it already\n",
        "# I will brute force it and just find when the first reactant hits 0\n",
        "adv = np.arange(0,1,.0001)\n",
        "\n",
        "# calculate flow of each species using advancement and stoichiometric\n",
        "# coefficient \n",
        "no = no_n2_molar_flow*.02 - 2*adv\n",
        "o2 = o2_n2_molar_flow*.1 - 1/2*adv\n",
        "nh3 = nh3_n2_molar_flow*.04 - 2*adv\n",
        "n2 = no_n2_molar_flow*.98 + o2_n2_molar_flow*.9 + nh3_n2_molar_flow*.96 + adv*2\n",
        "h2o = 0+3*adv\n",
        "\n",
        "total = no+o2+nh3+n2+h2o\n",
        "\n",
        "\n",
        "# Here we find the max advancement\n",
        "# Once we know that, cut all vectors to that value\n",
        "max_adv = min([np.where(no<0)[0][0],np.where(o2<0)[0][0],np.where(nh3<0)[0][0]])\n",
        "no = no[:max_adv]\n",
        "o2 = o2[:max_adv]\n",
        "nh3 = nh3[:max_adv]\n",
        "n2 = n2[:max_adv]\n",
        "h2o = h2o[:max_adv]\n",
        "adv = adv[:max_adv]\n",
        "\n",
        "total = total[:max_adv]\n",
        "\n",
        "# Plot everything\n",
        "plt.plot(adv,no,label='NO')\n",
        "plt.plot(adv,n2,label='N2')\n",
        "plt.plot(adv,o2,label='O2')\n",
        "plt.plot(adv,nh3,label='NH3')\n",
        "plt.plot(adv,h2o,label='H2O')\n",
        "plt.legend(loc='center right',bbox_to_anchor=(1.15,0.5),ncol=1)\n",
        "plt.xlabel('Rxn Advancement',weight='bold')\n",
        "plt.ylabel('Molar Flow Rate',weight='bold')\n",
        "plt.show()"
      ],
      "execution_count": 20,
      "outputs": [
        {
          "output_type": "display_data",
          "data": {
            "image/png": "[encoded data removed]",
            "text/plain": [
              "<Figure size 432x288 with 1 Axes>"
            ]
          },
          "metadata": {
            "needs_background": "light"
          }
        }
      ]
    },
    {
      "cell_type": "markdown",
      "metadata": {
        "id": "401LytrJQNP9"
      },
      "source": [
        "### 4. Plot the total volumetric flow rate as a function of reaction advancement."
      ]
    },
    {
      "cell_type": "code",
      "metadata": {
        "id": "70kzIWTqQNP9",
        "colab": {
          "base_uri": "https://localhost:8080/",
          "height": 279
        },
        "outputId": "154ff4a7-65f3-4634-c1be-cc092a9f528f"
      },
      "source": [
        "# convert total molar flow rate to volume flow rate\n",
        "vtot = total*R*T/P\n",
        "\n",
        "# plot it\n",
        "plt.plot(adv,vtot)\n",
        "plt.xlabel('Rxn Advancement',weight='bold')\n",
        "plt.ylabel('Total Volumetric Flow Rate (L/s)',weight='bold')\n",
        "plt.show()"
      ],
      "execution_count": 21,
      "outputs": [
        {
          "output_type": "display_data",
          "data": {
            "image/png": "[encoded data removed]",
            "text/plain": [
              "<Figure size 432x288 with 1 Axes>"
            ]
          },
          "metadata": {
            "needs_background": "light"
          }
        }
      ]
    },
    {
      "cell_type": "markdown",
      "metadata": {
        "id": "644XGIF-QNP9"
      },
      "source": [
        "**1.2: NH<sub>3</sub> oxidation is an undesirable side-reaction of thermal deNOx:**\n",
        "\n",
        "$\\ce{{\\_}NH3(g) + {\\_}O2(g) -> {\\_}NO(g) + {\\_}H2O(g)}$"
      ]
    },
    {
      "cell_type": "markdown",
      "metadata": {
        "id": "tRF04FvYQNP9"
      },
      "source": [
        "### 1. Balance the NH<sub>3</sub> oxidation reaction."
      ]
    },
    {
      "cell_type": "markdown",
      "metadata": {
        "id": "GF7TC_fTQNP9"
      },
      "source": [
        "$\\ce{4NH3(g) + 5O2(g) -> 4NO(g) + 6H2O(g)}$"
      ]
    },
    {
      "cell_type": "markdown",
      "metadata": {
        "id": "hNSBmf0_QNP9"
      },
      "source": [
        "### 2. Under the stoichiometric conditions described above, the reactor generates 0.036 g/s NO and 0.017 g/s N<sub>2</sub>. How effectively is the NH<sub>3</sub> being used for thermal deNOx? (*Hint:* What are the advancements of the two reactions?)"
      ]
    },
    {
      "cell_type": "markdown",
      "metadata": {
        "id": "fhzRE-qaWqLU"
      },
      "source": [
        "CLASS: There was an error in the problem statement. \"N2\" was supposed to be \"NH3.\" If N2, one would convert the N2 mass flow rate to molar flow rate and read the advancement of reaction 1 off of the plot from above. Similarly convert NO mass flow rate to molar, use the advancement from reaction 1 to determine its contribution to the NO molar flow rate, then attribute the difference to the advancement of reaction 2. In the NH3 case, one would write mass balances on both NO and NH3 in terms of advancements and solve both simultaneously. Much more interesting! Eg, FNH3 = FNH30 - 2 xi1 - 4 xi2. I encourage you to try it!"
      ]
    },
    {
      "cell_type": "code",
      "metadata": {
        "id": "dAln5TE1aYUV"
      },
      "source": [
        ""
      ],
      "execution_count": 21,
      "outputs": []
    },
    {
      "cell_type": "markdown",
      "metadata": {
        "id": "pjW62atmQNP-"
      },
      "source": [
        "# 2: NOx, NOx, who's there?\n",
        "**2.1 A Simpler and confounding reaction NO is it's oxidation to NO<sub>2</sub>:**\n",
        "\n",
        "$\\ce{{\\_}NO(g) + {\\_}O2(g) -> {\\_}NO2(g)}$\n",
        "\n",
        "You can assume all gases behave ideally under the conditions considered in this problem."
      ]
    },
    {
      "cell_type": "markdown",
      "metadata": {
        "id": "c2rkX9VCQNP-"
      },
      "source": [
        "### 1. Determine $\\Delta Hº$(298K), $\\Delta Sº$(298K), $\\Delta Gº$(298K), and $K_p$(298K) for the NO oxidation reaction. Be sure to specify your source and the standard state."
      ]
    },
    {
      "cell_type": "code",
      "metadata": {
        "id": "XNXHPff5QNP-",
        "colab": {
          "base_uri": "https://localhost:8080/",
          "height": 0
        },
        "outputId": "2b1b4930-4515-4326-edfd-96c647f39740"
      },
      "source": [
        "# data source: https://www2.chem.wisc.edu/deptfiles/genchem/netorial/modules/thermodynamics/table.htm\n",
        "# standard state 298.15K\n",
        "\n",
        "no_h = 90.25    #kJ/mol\n",
        "no_s = .21076   #kJ/mol*K\n",
        "no_g = 86.55    #kJ/mol\n",
        "\n",
        "o2_h = 0\n",
        "o2_s = .205138\n",
        "o2_g = 0\n",
        "\n",
        "no2_h = 33.18\n",
        "no2_s = .24006\n",
        "no2_g = 51.31\n",
        "\n",
        "h_rxn = 2*no2_h - o2_h - 2*no_h\n",
        "s_rxn = 2*no2_s - o2_s - 2*no_s\n",
        "g_rxn = 2*no2_g - o2_g - 2*no_g\n",
        "\n",
        "print('∆H(298) = ',h_rxn, 'kJ/mol')\n",
        "print('∆S(298) = ',s_rxn, 'kJ/mol*K')\n",
        "print('∆G(298) = ',g_rxn, 'kJ/mol')"
      ],
      "execution_count": 22,
      "outputs": [
        {
          "output_type": "stream",
          "name": "stdout",
          "text": [
            "∆H(298) =  -114.14 kJ/mol\n",
            "∆S(298) =  -0.146538 kJ/mol*K\n",
            "∆G(298) =  -70.47999999999999 kJ/mol\n"
          ]
        }
      ]
    },
    {
      "cell_type": "code",
      "metadata": {
        "id": "emnOpzamQNP-",
        "colab": {
          "base_uri": "https://localhost:8080/",
          "height": 0
        },
        "outputId": "8a7bb9f3-2e69-4418-a350-d3d3ed627497"
      },
      "source": [
        "# ∆G = -RTln(Kp)\n",
        "# ∆G = ∆H - T∆S\n",
        "# -RTln(Kp) = ∆H - T∆S\n",
        "# Kp = e^-((∆H - T∆S)/(RT))\n",
        "R = 8.314\n",
        "Kp = np.exp(-(h_rxn*1000-298.15*s_rxn*1000)/(R*298.15))\n",
        "print('Kp = ',Kp)"
      ],
      "execution_count": 23,
      "outputs": [
        {
          "output_type": "stream",
          "name": "stdout",
          "text": [
            "Kp =  2202619066232.3994\n"
          ]
        }
      ]
    },
    {
      "cell_type": "markdown",
      "metadata": {
        "id": "fnmyT-JhQNP-"
      },
      "source": [
        "### 2. Calculate the equilibrium partial pressure ratio of NO<sub>2</sub> to NO in the atomosphere near the surface of the earth. Assume the mixing ratio of O<sub>2</sub> to be 0.2 and a temperature of 25ºC."
      ]
    },
    {
      "cell_type": "code",
      "metadata": {
        "id": "3Y9EGZlFQNP-",
        "colab": {
          "base_uri": "https://localhost:8080/",
          "height": 0
        },
        "outputId": "30ce1eaa-0ce2-4a47-cf03-7a692ce83d9a"
      },
      "source": [
        "PO2 = 0.2 * 1 #atm\n",
        "# (PNO2)^2/(PNO)^2*PO2 = Kp \n",
        "# PNO2/PNO = sqrt(Kp*PO2)\n",
        "\n",
        "Pressure_ratio = np.sqrt(Kp*PO2)\n",
        "print('The pressure ratio is: ',Pressure_ratio)"
      ],
      "execution_count": 24,
      "outputs": [
        {
          "output_type": "stream",
          "name": "stdout",
          "text": [
            "The pressure ratio is:  663719.6797191416\n"
          ]
        }
      ]
    },
    {
      "cell_type": "markdown",
      "metadata": {
        "id": "47TNrKrgQNQA"
      },
      "source": [
        "### 3. From standard compilations and at 1 atm standard state, $\\Delta Hº$(250) = -116.532 kJ mol<sup>-1</sup> and $\\Delta Sº$(250) = -152.179J/mol/K. Use the van't Hoff relationship to plot $\\Delta Gº(T)$ vs T from room temperature to 1000ºC. Add a point on your plot for the $\\Delta Gº$(298K) you found from a tabulation."
      ]
    },
    {
      "cell_type": "code",
      "metadata": {
        "id": "Q95iNGHTQNQA",
        "colab": {
          "base_uri": "https://localhost:8080/",
          "height": 279
        },
        "outputId": "0fde3ede-b32f-4c84-ae16-1097e3653b7f"
      },
      "source": [
        "# ∆G = ∆H - T∆S\n",
        "h_250 = -116.532\n",
        "s_250 = -.152179\n",
        "temp = np.arange(298,1273)\n",
        "dg = h_250-temp*s_250\n",
        "plt.plot(temp,dg,label='∆G(T)')\n",
        "plt.scatter(298,g_rxn,color='purple',label='∆G(298K)')\n",
        "plt.legend()\n",
        "plt.xlabel('Temp(K)',weight='bold')\n",
        "plt.ylabel('∆G',weight='bold')\n",
        "plt.show()"
      ],
      "execution_count": 25,
      "outputs": [
        {
          "output_type": "display_data",
          "data": {
            "image/png": "[encoded data removed]",
            "text/plain": [
              "<Figure size 432x288 with 1 Axes>"
            ]
          },
          "metadata": {
            "needs_background": "light"
          }
        }
      ]
    },
    {
      "cell_type": "markdown",
      "metadata": {
        "id": "1VcpNpd4QNQA"
      },
      "source": [
        "### 4. NO oxidation is catalyzed over diesel oxidation catalysts (DOCs) on diesel vehicles. Plot the equilibrium conversion of NO to NO<sub>2</sub> vs T from room temperature to 1000ºC for an isobaric 1 atm reactor presented with 0.1% NO and 5% O<sub>2</sub>, and balance N<sub>2</sub>."
      ]
    },
    {
      "cell_type": "code",
      "metadata": {
        "id": "Y_k9ba6bQNQA",
        "colab": {
          "base_uri": "https://localhost:8080/",
          "height": 279
        },
        "outputId": "7e0d6c3f-728f-4dd9-9f44-7a138ada4585"
      },
      "source": [
        "# Conversion = Xc = K(T)/(1+K(T))\n",
        "# K(T) = e^-((∆H - T∆S)/(RT))\n",
        "\n",
        "temp = np.arange(298,1273)\n",
        "Kp_t = np.exp(-(h_rxn*1000-temp*s_rxn*1000)/(R*temp))\n",
        "o2 = .05\n",
        "no = .001\n",
        "\n",
        "xc = Kp_t/(1+Kp_t)\n",
        "plt.plot(temp,xc)\n",
        "plt.xlabel('Temp (K)',weight='bold')\n",
        "plt.ylabel('Conversion',weight='bold')\n",
        "plt.show()"
      ],
      "execution_count": 26,
      "outputs": [
        {
          "output_type": "display_data",
          "data": {
            "image/png": "[encoded data removed]",
            "text/plain": [
              "<Figure size 432x288 with 1 Axes>"
            ]
          },
          "metadata": {
            "needs_background": "light"
          }
        }
      ]
    }
  ]
}