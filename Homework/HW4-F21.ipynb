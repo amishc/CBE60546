{
 "cells": [
  {
   "cell_type": "markdown",
   "metadata": {
    "id": "bJHo5qvTzUC4"
   },
   "source": [
    "# Advanced Chemical Reaction Engieering (CBE 60546)\n",
    "## Homework 4\n",
    "## Due October 1, 2021"
   ]
  },
  {
   "cell_type": "markdown",
   "metadata": {
    "id": "gxBa_tQVzUC8"
   },
   "source": [
    "**Carefully and neatly document your answers. You may use a mathematical solver like Jupyter/iPython. Use plotting software for all plots.**"
   ]
  },
  {
   "cell_type": "markdown",
   "metadata": {
    "id": "Qf9C--oQzUC9"
   },
   "source": [
    "$$\\require{mhchem}$$"
   ]
  },
  {
   "cell_type": "markdown",
   "metadata": {
    "id": "mg6utOz1zUC-"
   },
   "source": [
    "# 1 Its elementary"
   ]
  },
  {
   "cell_type": "markdown",
   "metadata": {
    "id": "YSj-mqRnzUC-"
   },
   "source": [
    "### 1.1 Which of the following reactions can be assumed to be elementart? If it is elementary, indicate the molecularity. Briefly Justify your answers.\n",
    "\n",
    "$$\\ce{ O3(g) -> O2(g) + O(g)}$$\n",
    "$$\\ce{ 2H2(g) + O2(g) -> H2O(g)}$$\n",
    "$$\\ce{ 2NO(g) + O2(g) -> 2NO2(g)}$$\n",
    "$$\\ce{ H* + I2 -> HI + I*}$$\n",
    "$$\\ce{ 2Pt(111) + H2(g) -> 2Pt(111)-H}$$\n",
    "\n",
    "In the last example, Pt(111) indicates the surface of a Pt particle."
   ]
  },
  {
   "cell_type": "code",
   "execution_count": null,
   "metadata": {
    "id": "Lh2SYUn9zUC_"
   },
   "outputs": [],
   "source": [
    "# Answer Here"
   ]
  },
  {
   "cell_type": "markdown",
   "metadata": {
    "id": "qiNSBPs3zUDA"
   },
   "source": [
    "# 2 The Path less traveled\n",
    "Chlorine monoxide, CLO, exhibits three different self-reaction channels:\n",
    "\n",
    "|     | &emsp;&emsp;$A$ (L mol$^{-1}$s$^{-1}$)&emsp;&emsp; | &emsp;&emsp;$E_{a}$ (kJ mol$^{-1}$)&emsp;&emsp; |\n",
    "|:--------------------------------:|:----------------------------:|:-----------------------:|\n",
    "| $\\ce{ClO* + ClO*->Cl2 + O2}$     | $ 6.08\\times10^{8}   $       |      $13.2$             |\n",
    "| $\\ce{ClO* + ClO*->Cl* + ClOO}$   | $ 1.79\\times10^{10}  $       |      $20.4$             |\n",
    "| $\\ce{ClO* + ClO*->Cl* + OClO}$   | $ 2.11\\times10^{8}   $       |      $11.4$             |\n"
   ]
  },
  {
   "cell_type": "markdown",
   "metadata": {},
   "source": [
    "### 2.1 Make Arrhenius plots of the three reactions from 150 to 500K. Which reaction dominates at low temperature? At high temperature?"
   ]
  },
  {
   "cell_type": "code",
   "execution_count": null,
   "metadata": {
    "id": "Cv0dYRczzUDB"
   },
   "outputs": [],
   "source": [
    "# Answer Here"
   ]
  },
  {
   "cell_type": "markdown",
   "metadata": {},
   "source": [
    "### 2.2 Can Collision theory account for the variations in rate constants amongst the three reactions? Why or Why not?"
   ]
  },
  {
   "cell_type": "code",
   "execution_count": null,
   "metadata": {},
   "outputs": [],
   "source": [
    "# Answer Here"
   ]
  },
  {
   "cell_type": "markdown",
   "metadata": {},
   "source": [
    "### 2.3 The rate constant for a gas-phase bimolecular reaction can be written within transition state theory (using an isobaric standard state) as shown below. Use the definition of $E_{a}$ to derive relationships between the Arrhenius parameters and the standard activation enthalpy, $\\Delta H^{\\circ}$ (transitition state) and standard activation entropy , $\\Delta S^{\\circ}$ (transitition state), at 1 bar standard state.\n",
    "\n",
    "$$ k = \\frac{k_{b}T}{h}(\\frac{RT}{P^{\\circ}})\\exp(\\frac{-\\Delta G^{\\circ}(T)}{k_{b}T})$$"
   ]
  },
  {
   "cell_type": "code",
   "execution_count": null,
   "metadata": {
    "id": "FtoMWC_pzUDK"
   },
   "outputs": [],
   "source": [
    "# Answer here"
   ]
  },
  {
   "cell_type": "markdown",
   "metadata": {
    "id": "5HOezZ6ezUDL"
   },
   "source": [
    "### 2.4 Calculate $\\Delta H^{\\circ}$ (transition state) and $\\Delta S^{\\circ}$ (transition state) of the three reactions."
   ]
  },
  {
   "cell_type": "code",
   "execution_count": null,
   "metadata": {
    "id": "Zw50wMHOzUDM"
   },
   "outputs": [],
   "source": [
    "# Answer Here"
   ]
  },
  {
   "cell_type": "markdown",
   "metadata": {
    "id": "I0iUNMGyzUDN"
   },
   "source": [
    "### 2.5 Using chemical intuition and the calculated $\\Delta S^{\\circ}$ (transition state) as guides, draw candidate transition state structures for each of the three reactions. Include arrows to show motion along the reaction coordinates."
   ]
  },
  {
   "cell_type": "code",
   "execution_count": null,
   "metadata": {
    "id": "wWCc_WmdzUDN"
   },
   "outputs": [],
   "source": [
    "# Answer Here"
   ]
  },
  {
   "cell_type": "markdown",
   "metadata": {},
   "source": [
    "### 2.6 following is some thermodynamic data. Use it to sketch/dra/plot a potential enthalpy surface for the three reactions and a potential free energy surface for the three eactions at 298 K.\n",
    "\n",
    "|     |  &emsp;&emsp; $\\Delta H^{\\circ}_{f}(298K)$ (kJ mol$^{-1}$) &emsp;&emsp;  |  &emsp;&emsp; $\\Delta S^{\\circ}_{f}(298K)$ (J mol$^{-1}$) &emsp;&emsp;  |\n",
    "|:--------------------------------:|:----------------------------:|:-----------------------:|\n",
    "| $\\ce{ClO*}$  |  $101.22$  |  $226.65$  |\n",
    "| $\\ce{OClO*}$  |  $104.60$  |  $257.22$  |\n",
    "| $\\ce{ClO2}$  |  $98.0$  |  $269.32$  |\n",
    "| $\\ce{Cl}$  |  $121.3$  |  $165.19$  |\n",
    "| $\\ce{Cl2}$  |  $0$  |  $223.08$  |\n",
    "| $\\ce{O2}$  |  $0$  |  $205.15$  |"
   ]
  },
  {
   "cell_type": "code",
   "execution_count": null,
   "metadata": {},
   "outputs": [],
   "source": [
    "# Answer Here"
   ]
  },
  {
   "cell_type": "markdown",
   "metadata": {},
   "source": [
    "# 3 The Radical Path\n",
    "At high temperature, ethylene can be hydrogenated to ethane. The proposed mechanism has four steps, all of which are presumed to be elementary and essentially irreversible under realistic conditions.\n",
    "\n",
    "$$ \\ce{C2H4(g) + H2(g) ->[k_{1}] C2H5*(g) + H*(g)} $$\n",
    "<br>\n",
    "$$ \\ce{H*(g) + C2H4(g) ->[k_{2}] C2H5*(g)} $$\n",
    "<br>\n",
    "$$ \\ce{C2H5*(g) + H2(g) ->[k_{3}] C2H6(g) + H*(g)} $$\n",
    "<br>\n",
    "$$ \\ce{C2H5*(g) + H*(g) ->[k_{4}] C2H6(g)} $$"
   ]
  },
  {
   "cell_type": "markdown",
   "metadata": {},
   "source": [
    "### 3.1 Identify the reactants, products, and intermediates, and state whether the mechanism is open or closed."
   ]
  },
  {
   "cell_type": "code",
   "execution_count": null,
   "metadata": {
    "id": "z7tW2wrfzUDO"
   },
   "outputs": [],
   "source": [
    "# Answer Here"
   ]
  },
  {
   "cell_type": "markdown",
   "metadata": {
    "id": "FhC6TvSmzUDO"
   },
   "source": [
    "### 3.2 Why is it reasonable to assume that the first reaction is irreversible (that is, that the forward reaction rate is much greater than the reverse)? What about the second reaction?"
   ]
  },
  {
   "cell_type": "code",
   "execution_count": null,
   "metadata": {},
   "outputs": [],
   "source": [
    "# Answer Here"
   ]
  },
  {
   "cell_type": "markdown",
   "metadata": {},
   "source": [
    "### 3.3 Based on the mechanism above, write an expression for the rate of disapearance of ethylene."
   ]
  },
  {
   "cell_type": "code",
   "execution_count": null,
   "metadata": {},
   "outputs": [],
   "source": [
    "# Answer Here"
   ]
  },
  {
   "cell_type": "markdown",
   "metadata": {},
   "source": [
    "### 3.4 Apply the quasi-steady-state approximation seperately to H atoms and ethyl radicals. Use the results to derive expressions for the concentrations of each in terms of only reactant products."
   ]
  },
  {
   "cell_type": "code",
   "execution_count": null,
   "metadata": {},
   "outputs": [],
   "source": [
    "# Answer Here"
   ]
  },
  {
   "cell_type": "markdown",
   "metadata": {},
   "source": [
    "### 3.5 Combine your answers to obtain an expression for the rate of disapearance of ethylene that involves only reactants and products. What is the apparent reaction order with respect to $\\ce{H2}$? To $\\ce{C2H4}$?"
   ]
  },
  {
   "cell_type": "code",
   "execution_count": null,
   "metadata": {},
   "outputs": [],
   "source": [
    "# Answere Here"
   ]
  },
  {
   "cell_type": "markdown",
   "metadata": {},
   "source": [
    "### 3.6 What is the apparent rate constant? Do you expect it to exhibit Arrhenius behavior in general?"
   ]
  },
  {
   "cell_type": "code",
   "execution_count": null,
   "metadata": {},
   "outputs": [],
   "source": [
    "# Answer Here"
   ]
  },
  {
   "cell_type": "markdown",
   "metadata": {},
   "source": [
    "### 3.7 The opposite of ethylene hydrogenation is ethan dehydrogenation, $\\ce{C2H6 -> 2CH3}$. If the reaction is run in a diluent, say N2, the rate is obswerved to be a function of total pressure and to reach a limiting value at high pressure. Why? Can you propose a simple model for this behavior?"
   ]
  },
  {
   "cell_type": "code",
   "execution_count": null,
   "metadata": {},
   "outputs": [],
   "source": [
    "# Answer Here"
   ]
  },
  {
   "cell_type": "markdown",
   "metadata": {},
   "source": [
    "# 4 Another Question Coming!!!"
   ]
  },
  {
   "cell_type": "code",
   "execution_count": null,
   "metadata": {},
   "outputs": [],
   "source": []
  }
 ],
 "metadata": {
  "colab": {
   "name": "Homework_2.ipynb",
   "provenance": []
  },
  "kernelspec": {
   "display_name": "Python 3",
   "language": "python",
   "name": "python3"
  },
  "language_info": {
   "codemirror_mode": {
    "name": "ipython",
    "version": 3
   },
   "file_extension": ".py",
   "mimetype": "text/x-python",
   "name": "python",
   "nbconvert_exporter": "python",
   "pygments_lexer": "ipython3",
   "version": "3.7.3"
  }
 },
 "nbformat": 4,
 "nbformat_minor": 1
}
