{
  "nbformat": 4,
  "nbformat_minor": 0,
  "metadata": {
    "kernelspec": {
      "display_name": "Python 3",
      "language": "python",
      "name": "python3"
    },
    "language_info": {
      "codemirror_mode": {
        "name": "ipython",
        "version": 3
      },
      "file_extension": ".py",
      "mimetype": "text/x-python",
      "name": "python",
      "nbconvert_exporter": "python",
      "pygments_lexer": "ipython3",
      "version": "3.7.6"
    },
    "colab": {
      "name": "Homework_1.ipynb",
      "provenance": [],
      "include_colab_link": true
    }
  },
  "cells": [
    {
      "cell_type": "markdown",
      "metadata": {
        "id": "view-in-github",
        "colab_type": "text"
      },
      "source": [
        "<a href=\"https://colab.research.google.com/github/wmfschneider/CBE60546/blob/main/Homework/HW1-F21.ipynb\" target=\"_parent\"><img src=\"https://colab.research.google.com/assets/colab-badge.svg\" alt=\"Open In Colab\"/></a>"
      ]
    },
    {
      "cell_type": "markdown",
      "metadata": {
        "id": "SVEePptPY9_f"
      },
      "source": [
        "# Advanced Chemical Reaction Engineering\n",
        "## Homework 1\n",
        "## Due September 1st, 2021\n",
        "Solve each problem on separate sheets of paper, and clearly indicate the problem number and your name on each. Carefully and neatly document your answers. You may use a mathematical solver like Jupyter/iPython. Use plotting software for all plots."
      ]
    },
    {
      "cell_type": "markdown",
      "metadata": {
        "id": "MhKb7qtIY9_l"
      },
      "source": [
        "$$\\require{mhchem}$$    "
      ]
    },
    {
      "cell_type": "markdown",
      "metadata": {
        "id": "2ySss-FmY9_n"
      },
      "source": [
        "# 1: All in balance\n",
        "**1.1: One way under consideration for removing harmful \"NO<sub>x</sub>\" (NO + NO<sub>2</sub>) from flue gas is the thermal deNOx process, in which NH<sub>3</sub> is used to reduce the NO to N<sub>2</sub>:**\n",
        "\n",
        "$\\ce{{\\_}NO(g) + {\\_}O2(g) + {\\_}NH3(g) -> {\\_}N2(g) + {\\_}H2O(g)}$\n",
        "\n",
        "The research lab has several gas tanks available to study this reaction, including one containing 2.0% NO in an N<sub>2</sub>. You can assume all gases behave ideally."
      ]
    },
    {
      "cell_type": "code",
      "metadata": {
        "id": "wSYsZi5GKDoF"
      },
      "source": [
        ""
      ],
      "execution_count": null,
      "outputs": []
    },
    {
      "cell_type": "markdown",
      "metadata": {
        "id": "m1-9_nmJY9_p"
      },
      "source": [
        "### 1. Balance the thermal deNOx reaction, assuming each NH<sub>3</sub> titrates one NO."
      ]
    },
    {
      "cell_type": "code",
      "metadata": {
        "id": "WfLQ4m0pY9_q"
      },
      "source": [
        "# Answer here"
      ],
      "execution_count": null,
      "outputs": []
    },
    {
      "cell_type": "markdown",
      "metadata": {
        "id": "0IR_1w1hY9_r"
      },
      "source": [
        "### 2. What mas flow rates are necessary to create a stoichiometric mixture at 1 bar total pressure, 400ºC, and 101/s total volumetric flow rate?"
      ]
    },
    {
      "cell_type": "code",
      "metadata": {
        "id": "rcTGyvi_Y9_t"
      },
      "source": [
        "# Answer here"
      ],
      "execution_count": null,
      "outputs": []
    },
    {
      "cell_type": "markdown",
      "metadata": {
        "id": "JiXUUWRkY9_u"
      },
      "source": [
        "### 3. Plot the molar flow rates of all five gases as a function of reaction advancement."
      ]
    },
    {
      "cell_type": "code",
      "metadata": {
        "id": "TqZipL1TY9_w"
      },
      "source": [
        "# Answer here"
      ],
      "execution_count": null,
      "outputs": []
    },
    {
      "cell_type": "markdown",
      "metadata": {
        "id": "wjkl5m5hY9_y"
      },
      "source": [
        "### 4. Plot the total volumetric flow rate as a function of reaction advancement."
      ]
    },
    {
      "cell_type": "code",
      "metadata": {
        "id": "rMBVJHQ1Y9_z"
      },
      "source": [
        "# Answer here"
      ],
      "execution_count": null,
      "outputs": []
    },
    {
      "cell_type": "markdown",
      "metadata": {
        "id": "3QZZtYymY9_z"
      },
      "source": [
        "**1.2: NH<sub>3</sub> oxidation is an undesirable side-reaction of thermal deNOx:**\n",
        "\n",
        "$\\ce{{\\_}NH3(g) + {\\_}O2(g) -> {\\_}NO(g) + {\\_}H2O(g)}$"
      ]
    },
    {
      "cell_type": "markdown",
      "metadata": {
        "id": "2RpAmR_oY9_0"
      },
      "source": [
        "### 1. Balance the NH<sub>3</sub> oidation reaction."
      ]
    },
    {
      "cell_type": "code",
      "metadata": {
        "id": "zegx_9maY9_0"
      },
      "source": [
        "# Answer here"
      ],
      "execution_count": null,
      "outputs": []
    },
    {
      "cell_type": "markdown",
      "metadata": {
        "id": "4Ht9_hlrY9_1"
      },
      "source": [
        "### 2. Under the stoichiometric conditions described above, the reactor generates 0.036 g/s NO and 0.017 g/s N<sub>2</sub>. How effectively is the NH<sub>3</sub> being used for thermal deNOx? (*Hint:* What are the advancements of the two reactions?)"
      ]
    },
    {
      "cell_type": "code",
      "metadata": {
        "id": "aSGFhSbCKPHA"
      },
      "source": [
        ""
      ],
      "execution_count": null,
      "outputs": []
    },
    {
      "cell_type": "code",
      "metadata": {
        "id": "F7S0j44AY9_1"
      },
      "source": [
        "# Answer here"
      ],
      "execution_count": null,
      "outputs": []
    },
    {
      "cell_type": "markdown",
      "metadata": {
        "id": "Hi_vFAJWY9_1"
      },
      "source": [
        "# 2: NOx, NOx, who's there?\n",
        "**2.1 A Simpler and confounding reaction NO is it's oxidation to NO<sub>2</sub>:**\n",
        "\n",
        "$\\ce{{\\_}NO(g) + {\\_}O2(g) -> {\\_}NO2(g)}$\n",
        "\n",
        "You can assume all gases behave ideally under the conditions considered in this problem."
      ]
    },
    {
      "cell_type": "markdown",
      "metadata": {
        "id": "wF4-yfHBY9_2"
      },
      "source": [
        "### 1. Determine $\\Delta Hº$(298K), $\\Delta Sº$(298K), $\\Delta Gº$(298K), and $K_p$(298K) for the NO oxidation reaction. Be sure to specify your source and the standard state."
      ]
    },
    {
      "cell_type": "code",
      "metadata": {
        "id": "Cjx_wmiJY9_2"
      },
      "source": [
        "# Answer here"
      ],
      "execution_count": null,
      "outputs": []
    },
    {
      "cell_type": "markdown",
      "metadata": {
        "id": "EGaRtTrBY9_2"
      },
      "source": [
        "### 2. Calculate the equilibrium partial pressure ratio of NO<sub>2</sub> to NO in the atomosphere near the surface of the earth. Assume the mixing ration of O<sub>2</sub> to be 0.2 and a temperature of 25ºC."
      ]
    },
    {
      "cell_type": "code",
      "metadata": {
        "id": "KwbL5tDNY9_3"
      },
      "source": [
        "# Answer here"
      ],
      "execution_count": null,
      "outputs": []
    },
    {
      "cell_type": "markdown",
      "metadata": {
        "id": "b66tB7P0Y9_3"
      },
      "source": [
        "### 3. From standard compilations and at 1 atm standard state, $\\Delta Hº$(250) = -116.532 kJ mol<sup>-1</sup> and $\\Delta Sº$(250) = -152.179J/mol/K. Use the van't Hoff relationship to plot $\\Delta Gº(T)$ vs T from room temperature to 1000ºC. Add a point on your plot for the $\\Delta Gº$(298K) you found from a tabulation."
      ]
    },
    {
      "cell_type": "code",
      "metadata": {
        "id": "Nlyi3NANY9_3"
      },
      "source": [
        "# Answer here"
      ],
      "execution_count": null,
      "outputs": []
    },
    {
      "cell_type": "markdown",
      "metadata": {
        "id": "dXnFxXG9Y9_3"
      },
      "source": [
        "### 4. NO oxidation is catalyzed over diesel oxidation catalysts (DOCs) on diesel vehicles. Plot the equilibrium conversion of NO to NO<sub>2</sub> vs T from room temperature to 1000ºC for an isobaric 1 atm reactor presented with 0.1% NO and 5% O<sub>2</sub>, and balance N<sub>2</sub>."
      ]
    },
    {
      "cell_type": "code",
      "metadata": {
        "id": "Gk-coSAyY9_4"
      },
      "source": [
        "# Answer here"
      ],
      "execution_count": null,
      "outputs": []
    },
    {
      "cell_type": "code",
      "metadata": {
        "id": "Wzenpk6kY9_4"
      },
      "source": [
        ""
      ],
      "execution_count": null,
      "outputs": []
    }
  ]
}