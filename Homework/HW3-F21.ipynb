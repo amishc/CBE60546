{
 "cells": [
  {
   "cell_type": "markdown",
   "metadata": {
    "id": "bJHo5qvTzUC4"
   },
   "source": [
    "# Advanced Chemical Reaction Engieering (CBE 60546)\n",
    "## Homework 3\n",
    "## Due September 16, 2021"
   ]
  },
  {
   "cell_type": "markdown",
   "metadata": {
    "id": "gxBa_tQVzUC8"
   },
   "source": [
    "**Carefully and neatly document your answers. You may use a mathematical solver like Jupyter/iPython. Use plotting software for all plots.**"
   ]
  },
  {
   "cell_type": "markdown",
   "metadata": {
    "id": "Qf9C--oQzUC9"
   },
   "source": [
    "$$\\require{mhchem}$$"
   ]
  },
  {
   "cell_type": "markdown",
   "metadata": {
    "id": "mg6utOz1zUC-"
   },
   "source": [
    "# 1 Too hot in here\n",
    "Thermal ethane dehydrogenation, which you studied in the last homework, occurs at high $T$ and is plagued by the generation of “coke,” or a cake of primarily carbon. An alternative way to create ethylene is through oxidative dehydrogenation:\n",
    "\n",
    "$\\ce{ C2H6 (g) + O2 (g) -> C2H4(g) + H2O (g) }$\n",
    "\n",
    "At 600 K over some catalyst the reaction is half-order in ethane, first-order in $\\ce{O2}$, zero order in products, and has a pseudohomogeneous rate constant of 5.0 $\\text{M}^{-1/2}\\text{s}^{-1}$. (Note, I am completely making this up!) You plan to run the reaction in an isothermal, constant volume reactor starting with an 70:20:10 mixture of $\\ce{N2}:\\ce{C2H6}:\\ce{O2}$ at 2 bar total pressure."
   ]
  },
  {
   "cell_type": "markdown",
   "metadata": {
    "id": "YSj-mqRnzUC-"
   },
   "source": [
    "### 1.1 Plot the rate of disappearance of $\\ce{C2H6}$ and of $\\ce{O2}$ vs $\\ce{C2H6}$ conversion (don’t forget to balance the reaction!)."
   ]
  },
  {
   "cell_type": "code",
   "execution_count": null,
   "metadata": {
    "id": "Lh2SYUn9zUC_"
   },
   "outputs": [],
   "source": [
    "# Answer Here"
   ]
  },
  {
   "cell_type": "markdown",
   "metadata": {
    "id": "qiNSBPs3zUDA"
   },
   "source": [
    "### 1.2 Plot the concentrations of all species vs residence time in the reactor."
   ]
  },
  {
   "cell_type": "code",
   "execution_count": null,
   "metadata": {
    "id": "Cv0dYRczzUDB"
   },
   "outputs": [],
   "source": [
    "# Answer Here"
   ]
  },
  {
   "cell_type": "markdown",
   "metadata": {
    "id": "FtoMWC_pzUDK"
   },
   "source": [
    "# 2 Not a laughing matter\n",
    "Nitrous oxide ($\\ce{N2O}$) decomposes to $\\ce{N2}$ and $\\ce{O2}$ at high temperature. Experiments were performed at constant $T$ in a constant volume batch reactor. You can assume the reaction rate has the form $k P_{\\ce{N2O}}^a$.\n",
    "\n",
    "| $P_{\\ce{N2O}}$$_{,0}$ (torr) | $T$ (K) | half-life (s) |\n",
    "|-------------------------|---------|---------------|\n",
    "|                    82.5 |    1030 |           860 |\n",
    "|                     139 |    1030 |           470 |\n",
    "|                     296 |    1030 |           255 |\n",
    "|                     360 |    1030 |           212 |\n",
    "|                     345 |    1085 |            53 |\n",
    "|                     360 |    1030 |           212 |\n",
    "|                     294 |     967 |          1520 |"
   ]
  },
  {
   "cell_type": "markdown",
   "metadata": {
    "id": "5HOezZ6ezUDL"
   },
   "source": [
    "### 2.1 What is the reaction order?"
   ]
  },
  {
   "cell_type": "code",
   "execution_count": null,
   "metadata": {
    "id": "Zw50wMHOzUDM"
   },
   "outputs": [],
   "source": [
    "# Answer Here"
   ]
  },
  {
   "cell_type": "markdown",
   "metadata": {
    "id": "I0iUNMGyzUDN"
   },
   "source": [
    "### 2.2 What is the apparent activation energy?"
   ]
  },
  {
   "cell_type": "code",
   "execution_count": null,
   "metadata": {
    "id": "wWCc_WmdzUDN"
   },
   "outputs": [],
   "source": [
    "# Answer Here"
   ]
  },
  {
   "cell_type": "markdown",
   "metadata": {},
   "source": [
    "# 3 I’m getting dehydrated\n",
    "*tert*-butanol can be dehydrated to isobutylene over an ion-exchange resin. An experiment was performed to follow the concentration of butanol vs time at 338 K. You can assume the reaction rate is only dependent on the concentration of *tert*-butanol under these reaction conditions.\n",
    "\n",
    "| Time (h) | Butanol (M) |\n",
    "|----------|-------------|\n",
    "|        0 |        1.00 |\n",
    "|     0.25 |        0.94 |\n",
    "|     0.50 |        0.90 |\n",
    "|     0.70 |        0.86 |\n",
    "|     1.10 |        0.80 |\n",
    "|     1.50 |        0.72 |\n",
    "|     1.90 |        0.66 |\n",
    "|     2.50 |        0.59 |\n",
    "|     3.00 |        0.55 |\n",
    "|     4.00 |        0.43 |\n",
    "|     5.10 |        0.35 |\n",
    "|     6.00 |        0.28 |"
   ]
  },
  {
   "cell_type": "markdown",
   "metadata": {},
   "source": [
    "### 3.1 Write down the balanced reaction."
   ]
  },
  {
   "cell_type": "code",
   "execution_count": null,
   "metadata": {
    "id": "z7tW2wrfzUDO"
   },
   "outputs": [],
   "source": [
    "# Answer Here"
   ]
  },
  {
   "cell_type": "markdown",
   "metadata": {
    "id": "FhC6TvSmzUDO"
   },
   "source": [
    "### 3.2 What is the reaction order?"
   ]
  },
  {
   "cell_type": "code",
   "execution_count": null,
   "metadata": {},
   "outputs": [],
   "source": [
    "# Answer Here"
   ]
  },
  {
   "cell_type": "markdown",
   "metadata": {},
   "source": [
    "### 3.3 What is the rate constant at this temperature?"
   ]
  },
  {
   "cell_type": "code",
   "execution_count": null,
   "metadata": {},
   "outputs": [],
   "source": [
    "# Answer Here"
   ]
  },
  {
   "cell_type": "markdown",
   "metadata": {},
   "source": [
    "# 4 Pressure packed\n",
    "$\\ce{NH3}$ synthesis from $\\ce{N2}$ and $\\ce{H2}$ was studied in a constant volume reactor (0.315 l) over a Ru catalyst, in a clever setup in which the $\\ce{NH3}$ was continuously removed from the reactor.  The total pressure in the reactor was followed vs time at three different compositions and at 350 $^{\\circ}\\text{C}$. The pressures are reported as their equivalent values at 298 K (ie $N/V = P/R\\times 298 \\text{K}$).\n",
    "\n",
    "$\\ce{N2}:\\ce{H2}:\\ce{He}$ = 3:1:0\n",
    "\n",
    "| Pressure (torr) | 766.2 | 731.9 | 711.9 | 686.2 | 661.5 |\n",
    "|-----------------|-------|-------|-------|-------|-------|\n",
    "| Time (min)      |     0 |    18 |    30 |    42 |    54 |\n",
    "\n",
    "$\\ce{N2}:\\ce{H2}:\\ce{He}$ = 1:1:2\n",
    "\n",
    "| Pressure (torr) | 753.4 | 737.5 | 726.6 | 709.5 | 700.3 |\n",
    "|-----------------|-------|-------|-------|-------|-------|\n",
    "| Time (min)      |     0 |    15 |    30 |    45 |    54 |\n",
    "\n",
    "$\\ce{N2}:\\ce{H2}:\\ce{He}$ = 1:3:0\n",
    "\n",
    "| Pressure (torr) | 707.1 | 700.2 | 693.2 | 683.5 | 675.5 |\n",
    "|-----------------|-------|-------|-------|-------|-------|\n",
    "| Time (min)      |     0 |    15 |    30 |    45 |    55 |"
   ]
  },
  {
   "cell_type": "markdown",
   "metadata": {},
   "source": [
    "### 4.1 Write down the balanced reaction."
   ]
  },
  {
   "cell_type": "code",
   "execution_count": null,
   "metadata": {},
   "outputs": [],
   "source": [
    "# Answer Here"
   ]
  },
  {
   "cell_type": "markdown",
   "metadata": {},
   "source": [
    "### 4.2 Plot the $\\ce{N2}$ and $\\ce{H2}$ concentrations (mol/vol) vs time for each initial condition."
   ]
  },
  {
   "cell_type": "code",
   "execution_count": null,
   "metadata": {},
   "outputs": [],
   "source": [
    "# Answer Here"
   ]
  },
  {
   "cell_type": "markdown",
   "metadata": {},
   "source": [
    "### 4.3 Use finite differences to make a table of reaction rates (moles/time/volume) vs composition (mol/vol $\\ce{N2}$ and $\\ce{H2}$)."
   ]
  },
  {
   "cell_type": "code",
   "execution_count": null,
   "metadata": {},
   "outputs": [],
   "source": [
    "# Answer Here"
   ]
  },
  {
   "cell_type": "markdown",
   "metadata": {},
   "source": [
    "### 4.4 Use your rate data to determine a rate law and rate constant for the reaction at these conditions."
   ]
  },
  {
   "cell_type": "code",
   "execution_count": null,
   "metadata": {},
   "outputs": [],
   "source": [
    "# Answer Here"
   ]
  }
 ],
 "metadata": {
  "colab": {
   "name": "Homework_2.ipynb",
   "provenance": []
  },
  "kernelspec": {
   "display_name": "Python 3",
   "language": "python",
   "name": "python3"
  },
  "language_info": {
   "codemirror_mode": {
    "name": "ipython",
    "version": 3
   },
   "file_extension": ".py",
   "mimetype": "text/x-python",
   "name": "python",
   "nbconvert_exporter": "python",
   "pygments_lexer": "ipython3",
   "version": "3.7.6"
  }
 },
 "nbformat": 4,
 "nbformat_minor": 1
}
