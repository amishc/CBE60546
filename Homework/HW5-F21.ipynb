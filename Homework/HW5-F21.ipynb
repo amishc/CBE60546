{
  "nbformat": 4,
  "nbformat_minor": 0,
  "metadata": {
    "colab": {
      "name": "HW5-F21.ipynb",
      "provenance": [],
      "collapsed_sections": []
    },
    "kernelspec": {
      "display_name": "Python 3",
      "language": "python",
      "name": "python3"
    },
    "language_info": {
      "codemirror_mode": {
        "name": "ipython",
        "version": 3
      },
      "file_extension": ".py",
      "mimetype": "text/x-python",
      "name": "python",
      "nbconvert_exporter": "python",
      "pygments_lexer": "ipython3",
      "version": "3.8.3"
    }
  },
  "cells": [
    {
      "cell_type": "markdown",
      "metadata": {
        "id": "bJHo5qvTzUC4"
      },
      "source": [
        "# Advanced Chemical Reaction Engineering (CBE 60546)\n",
        "## Homework 5\n",
        "## Due October 12, 2021"
      ]
    },
    {
      "cell_type": "markdown",
      "metadata": {
        "id": "gxBa_tQVzUC8"
      },
      "source": [
        "**Carefully and neatly document your answers. You may use a mathematical solver like Jupyter/iPython. Use plotting software for all plots.**"
      ]
    },
    {
      "cell_type": "markdown",
      "metadata": {
        "id": "Qf9C--oQzUC9"
      },
      "source": [
        "$$\\require{mhchem}$$"
      ]
    },
    {
      "cell_type": "markdown",
      "metadata": {
        "id": "mg6utOz1zUC-"
      },
      "source": [
        "# 1 Looking only at the surface\n",
        "One method of determining the surface area of Pt catalysts is by surface titration with $\\ce{H2}$. $\\ce{H2}$ is thought to adsorb dissociatively, one H atom per surface Pt:\n",
        "\n",
        "$\\ce{H2 + 2∗ <=> 2 H∗}$"
      ]
    },
    {
      "cell_type": "markdown",
      "metadata": {
        "id": "YSj-mqRnzUC-"
      },
      "source": [
        "### 1.1 Derive the Langmuir isotherm for dissociative adsorption of $\\ce{H2}$."
      ]
    },
    {
      "cell_type": "code",
      "metadata": {
        "id": "Lh2SYUn9zUC_"
      },
      "source": [
        "# Answer Here"
      ],
      "execution_count": null,
      "outputs": []
    },
    {
      "cell_type": "markdown",
      "metadata": {
        "id": "nsbi7zcVFHtY"
      },
      "source": [
        "### 1.2 The data below were obtained for isothermal $\\ce{H2}$ chemisorption on a 3% (w/w) Pt catalyst supported on γ-alumina (nominally $\\ce{Al2O3}$). Does the data conform to a dissociative Langmuir adsorption model?\n",
        "\n",
        "| Pressure (bar) | mass $\\ce{H2}$/catalyst (${\\mu}$g g$^{-1}$)  |\n",
        "|----------------|----------------------------------------------------|\n",
        "|     0.0759     |                        1.30                        |\n",
        "|     0.152      |                        1.82                        |\n",
        "|     0.228      |                        2.30                        |\n",
        "|     0.304      |                        2.44                        |\n",
        "|     0.378      |                        2.55                        |\n",
        "|     1.518      |                        4.51                        |\n",
        "|     1.896      |                        4.59                        |\n",
        "|     2.276      |                        4.95                        |\n",
        "|     2.662      |                        5.21                        |\n",
        "|     3.035      |                        5.35                        |\n",
        "|     3.408      |                        5.50                        |\n",
        "|     3.781      |                        5.65                        |\n"
      ]
    },
    {
      "cell_type": "code",
      "metadata": {
        "id": "iTRz9v6jFHta"
      },
      "source": [
        "# Answer Here"
      ],
      "execution_count": null,
      "outputs": []
    },
    {
      "cell_type": "markdown",
      "metadata": {
        "id": "qiNSBPs3zUDA"
      },
      "source": [
        "# 2 Too hot to stick\n",
        "Temperature-programmed desorption (TPD) is a common way to explore the kinetics of desorption of gases from solid surfaces. Bray et al explored models for the associative desorption of $\\ce{O2}$ from a Pt(111) surface, a process that has an activation barrier that depends on the coverage (http://dx.doi.org/10.1016/j.susc.2013.12.005):\n",
        "\n",
        "$\\ce{2 O∗ ->[k(θ)] O2(g) + 2 ∗}$\n",
        "\n",
        "Bray used a desorption prefactor of about 1$\\times$10$^{14}$s$^{-1}$ and found the desorption activation energy to depend approximately linearly on oxygen coverage, from 2.5 eV at zero coverage to 2.1 eV at 0.3 ML."
      ]
    },
    {
      "cell_type": "markdown",
      "metadata": {
        "id": "Nd-_xxo9FHtb"
      },
      "source": [
        "### 2.1 Plot (on one graph) the $\\ce{O2}$ desorption rate vs temperature, starting from 0.073, 0.093, 0.164, 0.194, and 0.5 ML O and using a temperature ramp rate of 8 Ks$^{-1}$."
      ]
    },
    {
      "cell_type": "code",
      "metadata": {
        "id": "Cv0dYRczzUDB"
      },
      "source": [
        "# Answer Here"
      ],
      "execution_count": null,
      "outputs": []
    },
    {
      "cell_type": "markdown",
      "metadata": {
        "id": "4OGxLKfKFHte"
      },
      "source": [
        "# 3 Langmuir, Hinshelwood, and company\n",
        "Bob Davis and students (https://doi.org/10.1006/jcat.1999.2780) studied the reduction of nitrous oxide by carbon monoxide over a ceria-supported Rh catalyst. Following are rate data obtained at 543 K.\n",
        "\n",
        "| $P_{\\ce{CO}}$ (torr) | $P_{\\ce{N2O}}$ (torr) | TOF (s$^{-1}$) |\n",
        "|----------------------|-----------------------|------------------------|\n",
        "|         30.4         |          7.6          |         0.005          |\n",
        "|         30.4         |         15.2          |         0.0091         |\n",
        "|         30.4         |         30.4          |         0.018          |\n",
        "|         30.4         |         45.6          |         0.023          |\n",
        "|         30.4         |          76           |         0.036          |\n",
        "|         7.6          |         30.4          |         0.039          |\n",
        "|         15.2         |         30.4          |         0.024          |\n",
        "|         45.6         |         30.4          |         0.012          |\n",
        "|          76          |         30.4          |         0.0078         |"
      ]
    },
    {
      "cell_type": "markdown",
      "metadata": {
        "id": "W_cE4SP3FHtf"
      },
      "source": [
        "### 3.1 What is the apparent rate order with respect to $\\ce{CO}$? With respect to $\\ce{N2O}$?"
      ]
    },
    {
      "cell_type": "code",
      "metadata": {
        "id": "Ya1R8jemFHtf"
      },
      "source": [
        "# Answer Here"
      ],
      "execution_count": null,
      "outputs": []
    },
    {
      "cell_type": "markdown",
      "metadata": {
        "id": "BbF_TJrDFHtg"
      },
      "source": [
        "### 3.2 Following is a candidate mechanism. Derive a Langmuir-Hinshelwood rate expression assuming the first two reactions are quasi-equilibrated and the third reaction is rate-limiting.\n",
        "\n",
        "$\\ce{N2O + \\ast{} <=>[k_1][k_{-1}] N2O^\\ast}$ \\\n",
        "$\\ce{CO + \\ast{} <=>[k_2][k_{-2}] CO^\\ast}$ \\\n",
        "$\\ce{N2O^\\ast{} ->[k_3] N2 + O^\\ast}$ \\\n",
        "$\\ce{CO^\\ast{} + O^\\ast{} ->[k_4] CO2 }$"
      ]
    },
    {
      "cell_type": "code",
      "metadata": {
        "id": "1t6y4zFnFHtg"
      },
      "source": [
        "# Answer Here"
      ],
      "execution_count": null,
      "outputs": []
    },
    {
      "cell_type": "markdown",
      "metadata": {
        "id": "IwkrLMZEFHtg"
      },
      "source": [
        "### 3.3 Use the observed data and regression to estimate the rate parameters. (*Hint*: Linearize to estimate the rate parameters, and use these as guesses for non-linear regression.)"
      ]
    },
    {
      "cell_type": "code",
      "metadata": {
        "id": "vxW9r5fNFHtg"
      },
      "source": [
        "# Answer Here"
      ],
      "execution_count": null,
      "outputs": []
    },
    {
      "cell_type": "markdown",
      "metadata": {
        "id": "AiuaaLM5FHth"
      },
      "source": [
        "### 3.4 The reaction rate is observed to be Arrhenius over the temperature range 500 to 550 K with apparent activation energy 140 kJmol$^{-1}$. Can you rationalize this result with your model?"
      ]
    },
    {
      "cell_type": "code",
      "metadata": {
        "id": "8B_VT0aBFHth"
      },
      "source": [
        "# Answer Here"
      ],
      "execution_count": null,
      "outputs": []
    },
    {
      "cell_type": "markdown",
      "metadata": {
        "id": "QWQvi_ocFHth"
      },
      "source": [
        "# 4 Peak performance\n",
        "Ammonia synthesis ($\\ce{N2 + 3 H2 <=> 2 NH3}$) is among the most important heterogeneous catalytic reactions and has been studied extensively. Mehta (https://doi.org/10.1021/acscatal.0c00684) following Grabow write a simple lumped model for the mechanism over a metal catalyst:\n",
        "\n",
        "| |        $E_a$ (eV)       | $\\Delta S^{\\circ\\ddagger}$ (J/mol K)  | $\\Delta E$ (eV) | $\\Delta S^\\circ$ (J/mol K)|\n",
        "|-|--------------------|-----------------------------|-------------|------------------|\n",
        "| $\\ce{N2 + 2\\ast{} <=> 2 N^\\ast{} }$       | $1.57 E_N + 1.56$  |          $-216.9$           |   $2 E_N$   |     $-216.9$     |\n",
        "| $\\ce{N^\\ast{} + 3/2 H2 <=> NH3 + \\ast{}}$ | $-0.39 E_N + 1.24$ |           $-5.6$            | $-0.55-E_N$ |      $-5.6$     \n",
        "\n",
        "The activation energies for both steps are related through a Bronsted-Evans-Polanyi relationship to the binding energy of N, $E_N$. Those relationships are shown above, alone with some entropy data at 1 bar standard state. Note $k_B$ = 8.6173$\\times$10$^{-5}$ eV/K."
      ]
    },
    {
      "cell_type": "markdown",
      "metadata": {
        "id": "-27DdU99FHti"
      },
      "source": [
        "### 4.1 Determine and plot the log rate per site (turnover frequency) at 700 K, 100 bar, and a stoichiometric mixture of $\\ce{N2}$ and $\\ce{H2}$ at 1% conversion, as a function of $E_N$ from -1.3 to 0 eV.  (*Hint*: First apply quasi-steady-state approximation to $\\theta_N$, then back solve for rate.)"
      ]
    },
    {
      "cell_type": "code",
      "metadata": {
        "id": "z7tW2wrfzUDO"
      },
      "source": [
        "# Answer Here"
      ],
      "execution_count": null,
      "outputs": []
    },
    {
      "cell_type": "markdown",
      "metadata": {
        "id": "FhC6TvSmzUDO"
      },
      "source": [
        "### 4.2 Typical catalysis Fe and Ru have binding energies -1.2 and -0.5 eV.  Can you see why these are useful catalysts?"
      ]
    },
    {
      "cell_type": "code",
      "metadata": {
        "id": "WAlR4_EQFHti"
      },
      "source": [
        "# Answer Here"
      ],
      "execution_count": null,
      "outputs": []
    }
  ]
}