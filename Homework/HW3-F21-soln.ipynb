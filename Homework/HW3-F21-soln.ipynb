{
  "nbformat": 4,
  "nbformat_minor": 0,
  "metadata": {
    "colab": {
      "name": "Homework_3_solution_final.ipynb",
      "provenance": [],
      "collapsed_sections": []
    },
    "kernelspec": {
      "display_name": "Python 3",
      "language": "python",
      "name": "python3"
    },
    "language_info": {
      "codemirror_mode": {
        "name": "ipython",
        "version": 3
      },
      "file_extension": ".py",
      "mimetype": "text/x-python",
      "name": "python",
      "nbconvert_exporter": "python",
      "pygments_lexer": "ipython3",
      "version": "3.7.6"
    }
  },
  "cells": [
    {
      "cell_type": "markdown",
      "metadata": {
        "id": "bJHo5qvTzUC4"
      },
      "source": [
        "# Advanced Chemical Reaction Engineering (CBE 60546)\n",
        "## Homework 3\n",
        "## Due September 16, 2021"
      ]
    },
    {
      "cell_type": "markdown",
      "metadata": {
        "id": "gxBa_tQVzUC8"
      },
      "source": [
        "**Carefully and neatly document your answers. You may use a mathematical solver like Jupyter/iPython. Use plotting software for all plots.**"
      ]
    },
    {
      "cell_type": "code",
      "metadata": {
        "id": "5MM1KIfhjuJw"
      },
      "source": [
        "import pandas as pd\n",
        "import numpy as np\n",
        "import matplotlib.pyplot as plt\n",
        "from scipy.optimize import curve_fit"
      ],
      "execution_count": null,
      "outputs": []
    },
    {
      "cell_type": "markdown",
      "metadata": {
        "id": "Qf9C--oQzUC9"
      },
      "source": [
        "$$\\require{mhchem}$$"
      ]
    },
    {
      "cell_type": "markdown",
      "metadata": {
        "id": "mg6utOz1zUC-"
      },
      "source": [
        "# 1 Too hot in here\n",
        "Thermal ethane dehydrogenation, which you studied in the last homework, occurs at high $T$ and is plagued by the generation of “coke,” or a cake of primarily carbon. An alternative way to create ethylene is through oxidative dehydrogenation:\n",
        "\n",
        "$\\ce{ C2H6 (g) + O2 (g) -> C2H4(g) + H2O (g) }$\n",
        "\n",
        "At 600 K over some catalyst the reaction is half-order in ethane, first-order in $\\ce{O2}$, zero order in products, and has a pseudohomogeneous rate constant of 5.0 $\\text{M}^{-1/2}\\text{s}^{-1}$. (Note, I am completely making this up!) You plan to run the reaction in an isothermal, constant volume reactor starting with an 70:20:10 mixture of $\\ce{N2}:\\ce{C2H6}:\\ce{O2}$ at 2 bar total pressure."
      ]
    },
    {
      "cell_type": "markdown",
      "metadata": {
        "id": "YSj-mqRnzUC-"
      },
      "source": [
        "### 1.1 Plot the rate of disappearance of $\\ce{C2H6}$ and of $\\ce{O2}$ vs $\\ce{C2H6}$ conversion (don’t forget to balance the reaction!)."
      ]
    },
    {
      "cell_type": "markdown",
      "metadata": {
        "id": "7L4ncNvgHyWY"
      },
      "source": [
        "$\\ce{ C2H6 (g) + 1/2 O2 (g) -> C2H4(g) + H2O (g) }$"
      ]
    },
    {
      "cell_type": "markdown",
      "metadata": {
        "id": "9J84_2mQeDZV"
      },
      "source": [
        "Let's say \n",
        "\n",
        "$\\ce{C2H6} = A \\quad \\ce{O2} = B \\quad \\ce{C2H4} = D \\quad \\ce{H2O} = E$\n",
        "\n",
        "assume $N_{0} = 1 mol $\n",
        "\n",
        "$ N_{A0} = 0.2 mol, \\quad N_{B0} = 0.1 mol$ \n",
        "\n",
        "$ V = V_{0} = \\frac{RT}{P} $ \n",
        "\n",
        "$r_{A} = kC_{A}^{0.5}C_{B} = k (\\frac{N_{A0}}{V}(1-X))^{0.5} \\frac{N_{A0}}{V}(\\frac{N_{B0}}{N_{A0}} - 0.5X)$\n",
        "\n",
        "$r_{B} = 0.5 r_{A}$"
      ]
    },
    {
      "cell_type": "code",
      "metadata": {
        "id": "Lh2SYUn9zUC_",
        "colab": {
          "base_uri": "https://localhost:8080/",
          "height": 279
        },
        "outputId": "762ffee8-6f86-4baa-9492-d86b0593b63b"
      },
      "source": [
        "k = 5.0 # M^(-1/2) s^(-1)\n",
        "P = 2 # bar\n",
        "R = 8.314 * 10**(-2)  # L bar K^(-1) mol^(-1)\n",
        "T = 600 # K\n",
        "\n",
        "V0 = R*T/P  # assume n0 = 1 mol\n",
        "\n",
        "N_C2H6_0 = 1*0.2\n",
        "N_O2_0 = 1*0.1\n",
        "\n",
        "V = V0 # constant volume\n",
        "\n",
        "rC2H6 = []\n",
        "rO2 = []\n",
        "x_list = np.linspace(0,1,100)\n",
        "\n",
        "for x in x_list:\n",
        "    C_C2H6 = N_C2H6_0/V * (1-x)\n",
        "    C_O2 = N_C2H6_0/V * (N_O2_0/N_C2H6_0 - 0.5*x)\n",
        "\n",
        "    rC2H6.append(k * C_C2H6**(0.5) * C_O2) # rate of C2H6 consumption\n",
        "    \n",
        "    rO2.append(k * C_C2H6**(0.5) * C_O2 * 0.5)  # rate of O2 consumption\n",
        "\n",
        "plt.plot(x_list, rC2H6, label = 'Rate of C$_{2}$H$_{6}$ consumption')\n",
        "plt.plot(x_list, rO2, label = 'Rate of O$_2$ consumption')\n",
        "plt.xlabel('Conversion')\n",
        "plt.ylabel('Rate (M/s)')\n",
        "plt.legend()\n",
        "\n",
        "plt.show()# Answer Here"
      ],
      "execution_count": null,
      "outputs": [
        {
          "output_type": "display_data",
          "data": {
            "image/png": "[encoded data removed]",
            "text/plain": [
              "<Figure size 432x288 with 1 Axes>"
            ]
          },
          "metadata": {
            "needs_background": "light"
          }
        }
      ]
    },
    {
      "cell_type": "markdown",
      "metadata": {
        "id": "qiNSBPs3zUDA"
      },
      "source": [
        "### 1.2 Plot the concentrations of all species vs residence time in the reactor."
      ]
    },
    {
      "cell_type": "markdown",
      "metadata": {
        "id": "MoXFq5faePvk"
      },
      "source": [
        "Let's say \n",
        "\n",
        "$\\ce{C2H6} = A \\quad \\ce{O2} = B \\quad \\ce{C2H4} = D \\quad \\ce{H2O} = E$\n",
        "\n",
        "\n",
        "\n",
        "$\\frac{dN_{A}}{dt} = -r_{A}V$\n",
        " \n",
        "$N_{A0}\\frac{dX}{r_{A}V} = dt$\n",
        "\n",
        "here,\n",
        "\n",
        "$r_{A} = kC_{A}^{0.5}C_{B} = k (\\frac{N_{A0}}{V}(1-X))^{0.5} \\frac{N_{A0}}{V}(\\frac{N_{B0}}{N_{A0}} - 0.5X)$\n",
        "\n",
        "$dt = \\frac{N_{A0}}{V} \\frac{1}{kC_{A0}^2} \\frac{dX}{r_{A}V}$\n",
        "\n",
        "Integrate both sides\n",
        "\n",
        "$t = \\frac{1}{kC_{A0}} \\int{\\frac{1}{(1-X)^{0.5}(\\gamma - 0.5X)}}dX, \\quad \\gamma = \\frac{N_{B0}}{N_{A0}} = 0.5$\n",
        "\n",
        "\n",
        "$t = \\frac{1}{kC_{A0}} \\frac{4}{(1-x)^{0.5}}$\n"
      ]
    },
    {
      "cell_type": "code",
      "metadata": {
        "id": "Cv0dYRczzUDB",
        "colab": {
          "base_uri": "https://localhost:8080/",
          "height": 458
        },
        "outputId": "33352131-01b3-4b6e-c8a5-c9c68496ff3c"
      },
      "source": [
        "# Answer Here\n",
        "\n",
        "plt.subplots(1,2,figsize=(14,6))\n",
        "\n",
        "N_C2H4_0 = 0\n",
        "N_H2O_0 = 0\n",
        "\n",
        "gamma = N_O2_0/N_C2H6_0\n",
        "\n",
        "x_list = np.linspace(0.,1,100)\n",
        "times = []\n",
        "\n",
        "C_C2H6_list =[]\n",
        "C_O2_list =[]\n",
        "C_C2H4_list =[]\n",
        "C_H2O_list =[]\n",
        "C_N2_list =[]\n",
        "\n",
        "for x in x_list:\n",
        "    \n",
        "    time = 1/k/(N_C2H6_0/V)* 4/((1-x)**(0.5))\n",
        "    times.append(time)\n",
        "\n",
        "    C_C2H6 = N_C2H6_0/V * (1-x)\n",
        "    C_O2 = N_C2H6_0/V * (N_O2_0/N_C2H6_0 - 0.5*x)\n",
        "    C_C2H4 = N_C2H6_0/V * (N_C2H4_0/N_C2H6_0 + x)\n",
        "    C_H2O = N_C2H6_0/V * (N_H2O_0/N_C2H6_0 + x)\n",
        "    C_N2 = 0.7\n",
        "    \n",
        "    C_C2H6_list.append(C_C2H6)\n",
        "    C_O2_list.append(C_O2)\n",
        "    C_C2H4_list.append(C_C2H4)\n",
        "    C_H2O_list.append(C_H2O)\n",
        "    C_N2_list.append(C_N2)\n",
        "\n",
        "plt.subplot(1, 2, 1)\n",
        "plt.plot(times, C_C2H6_list, label = 'C$_{2}$H$_6$')\n",
        "plt.plot(times, C_O2_list, label = 'O$_2$')\n",
        "plt.plot(times, C_C2H4_list, label = 'C$_2$H$_4$')\n",
        "plt.plot(times, C_H2O_list, '--', label = 'H$_2$O')\n",
        "plt.xlabel('Resident time (s)')\n",
        "plt.ylabel('Concentration (M)')\n",
        "plt.legend()\n",
        "\n",
        "plt.subplot(1, 2, 2)\n",
        "plt.plot(times, C_N2_list, color = 'gray', label = 'N$_2$')\n",
        "plt.xlabel('Resident time (s)')\n",
        "# plt.ylabel('Concentration (M)')\n",
        "plt.legend()\n",
        "\n",
        "plt.tight_layout()\n",
        "\n",
        "plt.show()"
      ],
      "execution_count": null,
      "outputs": [
        {
          "output_type": "stream",
          "name": "stderr",
          "text": [
            "/usr/local/lib/python3.7/dist-packages/ipykernel_launcher.py:21: RuntimeWarning: divide by zero encountered in double_scalars\n"
          ]
        },
        {
          "output_type": "display_data",
          "data": {
            "image/png": "[encoded data removed]",
            "text/plain": [
              "<Figure size 1008x432 with 2 Axes>"
            ]
          },
          "metadata": {
            "needs_background": "light"
          }
        }
      ]
    },
    {
      "cell_type": "markdown",
      "metadata": {
        "id": "2jDF4YlCR6fq"
      },
      "source": [
        "**An alternative approach is to solve the problem numerically using an ODE solver like that demonstrated in class.**"
      ]
    },
    {
      "cell_type": "markdown",
      "metadata": {
        "id": "FtoMWC_pzUDK"
      },
      "source": [
        "# 2 Not a laughing matter\n",
        "Nitrous oxide ($\\ce{N2O}$) decomposes to $\\ce{N2}$ and $\\ce{O2}$ at high temperature. Experiments were performed at constant $T$ in a constant volume batch reactor. You can assume the reaction rate has the form $k P_{\\ce{N2O}}^a$.\n",
        "\n",
        "| $P_{\\ce{N2O}}$$_{,0}$ (torr) | $T$ (K) | half-life (s) |\n",
        "|-------------------------|---------|---------------|\n",
        "|                    82.5 |    1030 |           860 |\n",
        "|                     139 |    1030 |           470 |\n",
        "|                     296 |    1030 |           255 |\n",
        "|                     360 |    1030 |           212 |\n",
        "|                     345 |    1085 |            53 |\n",
        "|                     360 |    1030 |           212 |\n",
        "|                     294 |     967 |          1520 |"
      ]
    },
    {
      "cell_type": "markdown",
      "metadata": {
        "id": "5HOezZ6ezUDL"
      },
      "source": [
        "### 2.1 What is the reaction order?"
      ]
    },
    {
      "cell_type": "markdown",
      "metadata": {
        "id": "a2rv36VBeZ3c"
      },
      "source": [
        "Equations of half-life for 1st and nth order are:\n",
        "\n",
        "1st order: $t_{1/2} = \\frac{[N_{2}O]_{0}}{2k}$\n",
        "\n",
        "nth order: $t_{1/2} = \\frac{2^{n-1}}{(n-1)k[N_{2}O]_{0}^{n-1}}$\n",
        "\n",
        "Here, $[N_{2}O] = \\frac{P_{N_{2}O,0}}{RT}$\n",
        "\n",
        "\n",
        "Assume 1st order\n",
        "\n",
        "At the same T (= 1030 K), rate constant is the same.\n",
        "\n",
        "$k = \\frac{\\ln\\left(\\frac{[N_{2}O]_{0}}{[N_{2}O]}\\right)}{t}$\n",
        "\n",
        "Take 1st and 2nd rows data, and calculate rate constant of each. \n",
        "\n",
        "$\\rightarrow$ not the same. This is not 1st order reaction.\n",
        "\n",
        "\n",
        "Let nth order,\n",
        "\n",
        "Then k is\n",
        "\n",
        "$k = \\frac{2^{n-1}-1}{t_{1/2}(n-1)[N_{2}O]_{0}^{n-1}} = \\frac{2^{n-1}-1}{(1/RT)^{n-1} t_{1/2}(n-1)P_{N_{2}O,0}^{n-1}}$\n",
        "\n",
        "To simplify the equation, let's say \n",
        "\n",
        "$P_{N_{2}O,0} = P \\quad  t_{1/2} = t$\n",
        "\n",
        "at the same temperature, \n",
        "\n",
        "$\\frac{k_{1}}{k_{2}} = 1 = \\frac{t_{2} P_{2}^{n-1}}{t_{1} P_{1}^{n-1}}$\n",
        "\n",
        "$n = 1+ \\frac{ln(t_{1}/t_{2})}{ln(P_{2}/P_{1})}$"
      ]
    },
    {
      "cell_type": "code",
      "metadata": {
        "id": "Zw50wMHOzUDM",
        "colab": {
          "base_uri": "https://localhost:8080/"
        },
        "outputId": "572521a3-aa38-4330-bb91-4326d0bcaef5"
      },
      "source": [
        "# Answer Here\n",
        "import numpy as np\n",
        "\n",
        "half_t = [860, 470, 255, 212]\n",
        "P0 = [82.5, 139, 296, 360]\n",
        "\n",
        "\n",
        "n1 = 1+np.log(half_t[0]/half_t[1])/np.log(P0[1]/P0[0])\n",
        "n2 = 1+np.log(half_t[0]/half_t[2])/np.log(P0[2]/P0[0])\n",
        "n3 = 1+np.log(half_t[0]/half_t[3])/np.log(P0[3]/P0[0])\n",
        "n4 = 1+np.log(half_t[1]/half_t[2])/np.log(P0[2]/P0[1])\n",
        "n5 = 1+np.log(half_t[1]/half_t[3])/np.log(P0[3]/P0[1])\n",
        "n6 = 1+np.log(half_t[2]/half_t[3])/np.log(P0[3]/P0[2])\n",
        "\n",
        "print('n1 =', n1)\n",
        "print('n2 =', n2)\n",
        "print('n3 =', n3)\n",
        "print('n4 =', n4)\n",
        "print('n5 =', n5)\n",
        "print('n6 =', n6)\n",
        "print('average of n =',(n1+n2+n3+n4+n5+n6)/6)\n"
      ],
      "execution_count": null,
      "outputs": [
        {
          "output_type": "stream",
          "name": "stdout",
          "text": [
            "n1 = 2.15819035519198\n",
            "n2 = 1.951554321793365\n",
            "n3 = 1.9504789660104103\n",
            "n4 = 1.8089441223590441\n",
            "n5 = 1.8366133242717426\n",
            "n6 = 1.9434604687283246\n",
            "average of n = 1.9415402597258111\n"
          ]
        }
      ]
    },
    {
      "cell_type": "markdown",
      "metadata": {
        "id": "yikA67OsegMg"
      },
      "source": [
        "n1 ~ n6 should be the same. But they are slightly different. This difference may come from an experimental error.\n",
        "\n",
        "Thus, approximately reaction order, n $\\approx$ 2 "
      ]
    },
    {
      "cell_type": "markdown",
      "metadata": {
        "id": "I0iUNMGyzUDN"
      },
      "source": [
        "### 2.2 What is the apparent activation energy?"
      ]
    },
    {
      "cell_type": "markdown",
      "metadata": {
        "id": "buVpO9oKejrl"
      },
      "source": [
        "$k = \\frac{2^{n-1}-1}{t_{1/2}(n-1)[N_{2}O]_{0}^{n-1}} = \\frac{2^{n-1}-1}{(1/RT)^{n-1} t_{1/2}(n-1)P_{N_{2}O,0}^{n-1}}$\n",
        "\n",
        "n = 2\n",
        "\n",
        "$ k = \\frac{RT}{t_{1/2} P_{N_{2}O,0}} $\n",
        "\n",
        "We can obtain list of k in the different T.\n",
        "\n",
        "Then plot \"ln k vs 1/T\" (Arrhenius plot). The slope of Arrhenius plot is $-E_{a}/R$. "
      ]
    },
    {
      "cell_type": "code",
      "metadata": {
        "id": "wWCc_WmdzUDN",
        "colab": {
          "base_uri": "https://localhost:8080/",
          "height": 296
        },
        "outputId": "e6d2fe07-9b3c-4243-f0f7-677defb781d9"
      },
      "source": [
        "# Answer Here\n",
        "import matplotlib.pyplot as plt\n",
        "\n",
        "half_t_list = [860, 470, 255, 212, 53, 1520]\n",
        "P0_list = [82.5, 139, 296, 360, 345, 294]\n",
        "T_list = [1030, 1030, 1030, 1030, 1085, 967]\n",
        "invT_list = [1/x for x in T_list] # 1/T list\n",
        "\n",
        "lnk_list = []\n",
        "R = 62.364 # L Torr K^(-1) mol^(-1)\n",
        "for T,t,P0 in zip(T_list, half_t_list, P0_list):\n",
        "    lnk_list.append(np.log(R*T/t/P0))\n",
        "\n",
        "plt.plot(invT_list, lnk_list, 'o-')\n",
        "plt.xlabel('1/T (1/K)')\n",
        "plt.ylabel('ln k')\n",
        "\n",
        "#obtain m (slope) and b(intercept) of linear regression line\n",
        "m, b = np.polyfit(np.array(invT_list), np.array(lnk_list), 1)\n",
        "\n",
        "LTorr_to_KJ = 0.133322368*10**(-3)\n",
        "\n",
        "Ea = -m*R*LTorr_to_KJ\n",
        "\n",
        "print('Ea = {:.1f} kJ/mol'.format(Ea))"
      ],
      "execution_count": null,
      "outputs": [
        {
          "output_type": "stream",
          "name": "stdout",
          "text": [
            "Ea = 245.1 kJ/mol\n"
          ]
        },
        {
          "output_type": "display_data",
          "data": {
            "image/png": "[encoded data removed]",
            "text/plain": [
              "<Figure size 432x288 with 1 Axes>"
            ]
          },
          "metadata": {
            "needs_background": "light"
          }
        }
      ]
    },
    {
      "cell_type": "markdown",
      "metadata": {
        "id": "cDqLAvTcns33"
      },
      "source": [
        "# 3 I’m getting dehydrated\n",
        "*tert*-butanol can be dehydrated to isobutylene over an ion-exchange resin. An experiment was performed to follow the concentration of butanol vs time at 338 K. You can assume the reaction rate is only dependent on the concentration of *tert*-butanol under these reaction conditions.\n",
        "\n",
        "| Time (h) | Butanol (M) |\n",
        "|----------|-------------|\n",
        "|        0 |        1.00 |\n",
        "|     0.25 |        0.94 |\n",
        "|     0.50 |        0.90 |\n",
        "|     0.70 |        0.86 |\n",
        "|     1.10 |        0.80 |\n",
        "|     1.50 |        0.72 |\n",
        "|     1.90 |        0.66 |\n",
        "|     2.50 |        0.59 |\n",
        "|     3.00 |        0.55 |\n",
        "|     4.00 |        0.43 |\n",
        "|     5.10 |        0.35 |\n",
        "|     6.00 |        0.28 |"
      ]
    },
    {
      "cell_type": "markdown",
      "metadata": {
        "id": "Hky_zKhHns34"
      },
      "source": [
        "### 3.1 Write down the balanced reaction."
      ]
    },
    {
      "cell_type": "markdown",
      "metadata": {
        "id": "o1cLJzWhiDqp"
      },
      "source": [
        "$\\ce{C_4H_{9}OH -> C_4H_8 + H_2O}$ "
      ]
    },
    {
      "cell_type": "markdown",
      "metadata": {
        "id": "FhC6TvSmzUDO"
      },
      "source": [
        "### 3.2 What is the reaction order?"
      ]
    },
    {
      "cell_type": "code",
      "metadata": {
        "id": "yXb16ECans34"
      },
      "source": [
        "# Answer Here\n",
        "\n",
        "time = np.array([0,0.25,0.50,0.70,1.10,1.50,1.90,2.50,3.00,4.00,5.10,6.00])*60*60 # convert unit of time from h to s\n",
        "butanol = np.array([1.00,0.94,0.90,0.86,0.80,0.72,0.66,0.59,0.55,0.43,0.35,0.28]) # butanol concentration in M\n",
        "# r = dc/dt\n",
        "grad_t = np.gradient(time)  # second order approximation to gradient, allowing for unequal step size\n",
        "grad_C = np.gradient(butanol)\n",
        "rate = -np.divide(grad_C,grad_t)"
      ],
      "execution_count": null,
      "outputs": []
    },
    {
      "cell_type": "markdown",
      "metadata": {
        "id": "udwtenX7wyyV"
      },
      "source": [
        "**One approach is to plot log(rate) vs log(concentration) and do linear fitting to obtain reaction order. Another approached is to use curve_fit and fit rate vs concentration directly (like what we saw in class). Solutions using both approaches are shown here.**"
      ]
    },
    {
      "cell_type": "code",
      "metadata": {
        "colab": {
          "base_uri": "https://localhost:8080/",
          "height": 320
        },
        "id": "UpcLSGlYzlwa",
        "outputId": "f52b779e-55e1-4781-f3e2-30b4d8844685"
      },
      "source": [
        "# Approach 1: linear fitting to log(rate) vs log(concentration)\n",
        "log_rate = np.log(rate)\n",
        "log_conc = np.log(butanol)\n",
        "a = np.polyfit(log_conc, log_rate, 1) # the slope of log_rate vs log_conc is reaction order alpha\n",
        "\n",
        "print(\"The reaction order is {:.2f}.\".format(a[0]))\n",
        "\n",
        "# Visualize the log_rate vs log_conc and the linear fitting\n",
        "fitted_log_rate = log_conc*a[0] + a[1]\n",
        "plt.scatter(log_conc, log_rate)\n",
        "plt.plot(log_conc, fitted_log_rate, label='linear fitting \\n y = {:.2f}x {:.2f}'.format(a[0], a[1]))\n",
        "\n",
        "plt.xlabel('ln(rate_butanol)',fontsize=15)\n",
        "plt.ylabel('ln(concentration_butanol)',fontsize=15)\n",
        "plt.legend(fontsize=15)\n",
        "\n",
        "plt.show()\n",
        "\n",
        "# Check the MSE of the fitting\n",
        "difference_array = np. subtract(log_rate, fitted_log_rate)\n",
        "squared_array = np. square(difference_array)\n",
        "mse = squared_array. mean()\n",
        "print(mse)"
      ],
      "execution_count": null,
      "outputs": [
        {
          "output_type": "stream",
          "name": "stdout",
          "text": [
            "The reaction order is 0.90.\n"
          ]
        },
        {
          "output_type": "display_data",
          "data": {
            "image/png": "[encoded data removed]",
            "text/plain": [
              "<Figure size 432x288 with 1 Axes>"
            ]
          },
          "metadata": {
            "needs_background": "light"
          }
        },
        {
          "output_type": "stream",
          "name": "stdout",
          "text": [
            "0.01392977075976469\n"
          ]
        }
      ]
    },
    {
      "cell_type": "code",
      "metadata": {
        "colab": {
          "base_uri": "https://localhost:8080/",
          "height": 324
        },
        "id": "b6HSAZM7x-JU",
        "outputId": "034fa71d-fe30-472b-f1a1-946c9d8c158e"
      },
      "source": [
        "# Approach 2: use curve_fit and fit rate vs concentration directly\n",
        "\n",
        "def differential(x, k, alpha):\n",
        "    return k*x**alpha\n",
        "\n",
        "popt, pcov = curve_fit(differential, butanol, rate)\n",
        "print('k = {0:f}, the reaction order alpha={1:.2f}'.format(popt[0],popt[1]))\n",
        "\n",
        "# Visualize the rate vs concentration and the fitting\n",
        "\n",
        "plt.plot(butanol,rate,'o')\n",
        "model = differential(butanol,popt[0],popt[1])\n",
        "plt.plot(butanol,model,'-')\n",
        "plt.xlabel('Concentration (mol/L)')\n",
        "plt.ylabel('Rate (mol/L/x)')\n",
        "\n",
        "plt.show()\n",
        "\n",
        "# Check the MSE of the fitting\n",
        "difference_array = np. subtract(rate, model)\n",
        "squared_array = np. square(difference_array)\n",
        "mse = squared_array. mean()\n",
        "print(mse)"
      ],
      "execution_count": null,
      "outputs": [
        {
          "output_type": "stream",
          "name": "stdout",
          "text": [
            "k = 0.000060, the reaction order alpha=1.04\n"
          ]
        },
        {
          "output_type": "display_data",
          "data": {
            "image/png": "[encoded data removed]",
            "text/plain": [
              "<Figure size 432x288 with 1 Axes>"
            ]
          },
          "metadata": {
            "needs_background": "light"
          }
        },
        {
          "output_type": "stream",
          "name": "stdout",
          "text": [
            "1.849674680049919e-11\n"
          ]
        }
      ]
    },
    {
      "cell_type": "markdown",
      "metadata": {
        "id": "R2FuXHH_ns35"
      },
      "source": [
        "### 3.3 What is the rate constant at this temperature?"
      ]
    },
    {
      "cell_type": "code",
      "metadata": {
        "id": "rcGE49Zmns35",
        "colab": {
          "base_uri": "https://localhost:8080/",
          "height": 317
        },
        "outputId": "20b7784e-1ebc-4356-caa8-245165bbffec"
      },
      "source": [
        "# Answer Here\n",
        "\n",
        "# Approach 1: linear fit to rate vs concetration to the power of reaction order\n",
        "butanol_a = butanol**(a[0]) # concentration of butanol to the power of reaction order\n",
        "b = np.polyfit(butanol_a, rate, 1) # the slope of rate vs butanol_a is the rate constant\n",
        "\n",
        "print(\"The rate constant at this temperature is {:.6f}.\".format(b[0]))\n",
        "\n",
        "# Visualize the rate vs butanol_a and the linear fitting\n",
        "fitted_rate = [i*b[0] + b[1] for i in butanol_a]\n",
        "plt.scatter(butanol_a, rate)\n",
        "plt.plot(butanol_a, fitted_rate, label='linear fitting \\n y = {:.6f}x {:.6f}'.format(b[0], b[1]))\n",
        "\n",
        "plt.xlabel('concentration_butanol$^a$',fontsize=15)\n",
        "plt.ylabel('rate_butanol',fontsize=15)\n",
        "plt.legend(fontsize=15)\n",
        "\n",
        "plt.show()"
      ],
      "execution_count": null,
      "outputs": [
        {
          "output_type": "stream",
          "name": "stdout",
          "text": [
            "The rate constant at this temperature is 0.000062.\n"
          ]
        },
        {
          "output_type": "display_data",
          "data": {
            "image/png": "[encoded data removed]",
            "text/plain": [
              "<Figure size 432x288 with 1 Axes>"
            ]
          },
          "metadata": {
            "needs_background": "light"
          }
        }
      ]
    },
    {
      "cell_type": "code",
      "metadata": {
        "colab": {
          "base_uri": "https://localhost:8080/",
          "height": 296
        },
        "id": "Affw7SytyELR",
        "outputId": "a3030077-7825-433b-fd87-4d03b9e4a619"
      },
      "source": [
        "# If using approach #2 in question 3.2, then it suggests reaction order of 1\n",
        "\n",
        "def integral(time, k): # integrated first-order rate law C = C0*exp(-kt)\n",
        "    return np.exp(-k*time) # initial concetration is 1 M\n",
        "\n",
        "popt1, pcov1 = curve_fit(integral, time, butanol, 0.000060) # initial gas of k is from question 3.2\n",
        "print('k = {0:f}'.format(popt1[0]))\n",
        "\n",
        "model1 = integral(time, popt1[0])\n",
        "plt.plot(time,butanol,'o')\n",
        "plt.plot(time,np.exp(-0.00006*time),'-')\n",
        "plt.xlabel('Time (s)')\n",
        "plt.ylabel('Concentration (mol/L)')\n",
        "plt.show()"
      ],
      "execution_count": null,
      "outputs": [
        {
          "output_type": "stream",
          "name": "stdout",
          "text": [
            "k = 0.000058\n"
          ]
        },
        {
          "output_type": "display_data",
          "data": {
            "image/png": "[encoded data removed]",
            "text/plain": [
              "<Figure size 432x288 with 1 Axes>"
            ]
          },
          "metadata": {
            "needs_background": "light"
          }
        }
      ]
    },
    {
      "cell_type": "markdown",
      "metadata": {
        "id": "19_QslMrns35"
      },
      "source": [
        "# 4 Pressure packed\n",
        "$\\ce{NH3}$ synthesis from $\\ce{N2}$ and $\\ce{H2}$ was studied in a constant volume reactor (0.315 l) over a Ru catalyst, in a clever setup in which the $\\ce{NH3}$ was continuously removed from the reactor.  The total pressure in the reactor was followed vs time at three different compositions and at 350 $^{\\circ}\\text{C}$. The pressures are reported as their equivalent values at 298 K (ie $N/V = P/R\\times 298 \\text{K}$).\n",
        "\n",
        "$\\ce{N2}:\\ce{H2}:\\ce{He}$ = 3:1:0\n",
        "\n",
        "| Pressure (torr) | 766.2 | 731.9 | 711.9 | 686.2 | 661.5 |\n",
        "|-----------------|-------|-------|-------|-------|-------|\n",
        "| Time (min)      |     0 |    18 |    30 |    42 |    54 |\n",
        "\n",
        "$\\ce{N2}:\\ce{H2}:\\ce{He}$ = 1:1:2\n",
        "\n",
        "| Pressure (torr) | 753.4 | 737.5 | 726.6 | 709.5 | 700.3 |\n",
        "|-----------------|-------|-------|-------|-------|-------|\n",
        "| Time (min)      |     0 |    15 |    30 |    45 |    54 |\n",
        "\n",
        "$\\ce{N2}:\\ce{H2}:\\ce{He}$ = 1:3:0\n",
        "\n",
        "| Pressure (torr) | 707.1 | 700.2 | 693.2 | 683.5 | 675.5 |\n",
        "|-----------------|-------|-------|-------|-------|-------|\n",
        "| Time (min)      |     0 |    15 |    30 |    45 |    55 |"
      ]
    },
    {
      "cell_type": "markdown",
      "metadata": {
        "id": "8BVEX2zyns35"
      },
      "source": [
        "### 4.1 Write down the balanced reaction."
      ]
    },
    {
      "cell_type": "markdown",
      "metadata": {
        "id": "h8LFn6L-uQii"
      },
      "source": [
        "$N_2+3H_2\\rightarrow 2NH_3$"
      ]
    },
    {
      "cell_type": "markdown",
      "metadata": {
        "id": "vSfF-xjPns36"
      },
      "source": [
        "### 4.2 Plot the $\\ce{N2}$ and $\\ce{H2}$ concentrations (mol/vol) vs time for each initial condition."
      ]
    },
    {
      "cell_type": "markdown",
      "metadata": {
        "id": "DI-gcLC7up_H"
      },
      "source": [
        "case 1:\n",
        "\n",
        "| | $N_2$ | $H_2$ |  $NH_3$ | $He$ |\n",
        "| --- | --- | --- | --- | --- |\n",
        "| Initial | 3$n_0$ | $n_0$ | 0 | 0 |\n",
        "| Change  | $-\\epsilon$ | $-3\\epsilon$ | $2\\epsilon$| 0 |\n",
        "| End | $3n_0-\\epsilon$ | $n_0-3\\epsilon$ |  $2\\epsilon$ | 0 |\n",
        "\n",
        "$N_{total} = 4n_0-4\\epsilon$\n",
        "\n",
        "$n_0 = \\frac{P_0V}{4RT}$\n",
        "\n",
        "$N_{total}= \\frac{PV}{RT}$\n",
        "\n",
        "$\\epsilon = \\frac{P_0V}{4RT}-\\frac{PV}{4RT} = (P_0-P)\\frac{V}{4RT}$\n",
        "\n",
        "$c_{N_2} = \\frac{(3n_0-\\epsilon)}{V}$\n",
        "\n",
        "$c_{H_2} = \\frac{(n_0-3\\epsilon)}{V}$\n",
        "\n",
        "case 2:\n",
        "\n",
        "| | $N_2$ | $H_2$ |  $NH_3$ | $He$ |\n",
        "| --- | --- | --- | --- | --- |\n",
        "| Initial | $n_0$ | $n_0$ | 0 | 2$n_0$ |\n",
        "| Change  | $-\\epsilon$ | $-3\\epsilon$ | $2\\epsilon$| 2$n_0$ |\n",
        "| End | $n_0-\\epsilon$ | $n_0-3\\epsilon$ |  $2\\epsilon$ | 2$n_0$ |\n",
        "\n",
        "$N_{total} = 4n_0-4\\epsilon$\n",
        "\n",
        "$n_0 = \\frac{P_0V}{4RT}$\n",
        "\n",
        "$N_{total}= \\frac{PV}{RT}$\n",
        "\n",
        "$\\epsilon = \\frac{P_0V}{4RT}-\\frac{PV}{4RT} = (P_0-P)\\frac{V}{4RT}$\n",
        "\n",
        "$c_{N_2} = \\frac{(n_0-\\epsilon)}{V}$\n",
        "\n",
        "$c_{H_2} = \\frac{(n_0-3\\epsilon)}{V}$\n",
        "\n",
        "case 3:\n",
        "\n",
        "| | $N_2$ | $H_2$ |  $NH_3$ | $He$ |\n",
        "| --- | --- | --- | --- | --- |\n",
        "| Initial | $n_0$ | $n_0$ | 0 | 0 |\n",
        "| Change  | $-\\epsilon$ | $-3\\epsilon$ | $2\\epsilon$| 0 |\n",
        "| End | $n_0-\\epsilon$ | $3n_0-3\\epsilon$ |  $2\\epsilon$ | 0 |\n",
        "\n",
        "$N_{total} = 4n_0-4\\epsilon$\n",
        "\n",
        "$n_0 = \\frac{P_0V}{4RT}$\n",
        "\n",
        "$N_{total}= \\frac{PV}{RT}$\n",
        "\n",
        "$\\epsilon = \\frac{P_0V}{4RT}-\\frac{PV}{4RT} = (P_0-P)\\frac{V}{4RT}$\n",
        "\n",
        "$c_{N_2} = \\frac{(n_0-\\epsilon)}{V}$\n",
        "\n",
        "$c_{H_2} = \\frac{(3n_0-3\\epsilon)}{V}$\n"
      ]
    },
    {
      "cell_type": "code",
      "metadata": {
        "id": "PA3W2ak5ns36"
      },
      "source": [
        "# Answer Here\n",
        "P_1 = np.array([766.2,731.9,711.9,686.2,661.5])\n",
        "t_1 = np.array([0,18,30,42,54])\n",
        "P_2 = np.array([753.4,737.5,726.6,709.5,700.3])\n",
        "t_2 = np.array([0,15,30,45,54])\n",
        "P_3 = np.array([707.1,700.2,693.2,683.5,675.5])\n",
        "t_3 = np.array([0,15,30,45,55])\n",
        "\n",
        "T = 298 #K\n",
        "V = 0.315e-3 #m3\n",
        "R = 8.314 #m3*/Pa/K/mol\n",
        "#convert pressure to Pa\n",
        "P_1 = P_1*133.322\n",
        "P_2 = P_2*133.322\n",
        "P_3 = P_3*133.322\n",
        "\n",
        "#calculate extant of reaction\n",
        "e_1 = []\n",
        "e_2 = []\n",
        "e_3 = []\n",
        "for i in range(len(P_1)):\n",
        " e_1.append((P_1[0]-P_1[i])*V/R/T/4) \n",
        " e_2.append((P_2[0]-P_2[i])*V/R/T/4)\n",
        " e_3.append((P_3[0]-P_3[i])*V/R/T/4)\n",
        "\n",
        "#calculate concentration\n",
        "c_N2_1 = []\n",
        "c_H2_1 = []\n",
        "c_N2_2 = []\n",
        "c_H2_2 = []\n",
        "c_N2_3 = []\n",
        "c_H2_3 = []\n",
        "for i in range(len(e_1)):\n",
        "  c_N2_1.append(3*P_1[0]/R/T/4-e_1[i]/V)\n",
        "  c_H2_1.append(1*P_1[0]/R/T/4-3*e_1[i]/V)\n",
        "  c_N2_2.append(1*P_2[0]/R/T/4-e_2[i]/V)\n",
        "  c_H2_2.append(1*P_2[0]/R/T/4-3*e_2[i]/V)\n",
        "  c_N2_3.append(1*P_3[0]/R/T/4-e_3[i]/V)\n",
        "  c_H2_3.append(3*P_3[0]/R/T/4-3*e_3[i]/V)\n",
        "\n",
        "#convert to mol/L\n",
        "\n",
        "for i in range(len(c_N2_1)):\n",
        "  c_N2_1[i] = c_N2_1[i]/10**3\n",
        "  c_H2_1[i] = c_H2_1[i]/10**3\n",
        "  c_N2_2[i] = c_N2_2[i]/10**3\n",
        "  c_H2_2[i] = c_H2_2[i]/10**3\n",
        "  c_N2_3[i] = c_N2_3[i]/10**3\n",
        "  c_H2_3[i] = c_H2_3[i]/10**3"
      ],
      "execution_count": null,
      "outputs": []
    },
    {
      "cell_type": "code",
      "metadata": {
        "colab": {
          "base_uri": "https://localhost:8080/",
          "height": 296
        },
        "id": "ejZKN7IK26vb",
        "outputId": "cc17c1c7-2ae4-43af-b1ca-79a3e8bd348b"
      },
      "source": [
        "plt.plot(t_1,c_N2_1,'o-',label = r'$N_2$')\n",
        "plt.plot(t_1,c_H2_1,'o-',label = r'$H_2$')\n",
        "plt.ylabel('Concentration mol/L')\n",
        "plt.xlabel('time min')\n",
        "plt.title(r'$N_2:H_2:He=3:1:0$')\n",
        "plt.legend()\n",
        "plt.show()"
      ],
      "execution_count": null,
      "outputs": [
        {
          "output_type": "display_data",
          "data": {
            "image/png": "[encoded data removed]",
            "text/plain": [
              "<Figure size 432x288 with 1 Axes>"
            ]
          },
          "metadata": {
            "needs_background": "light"
          }
        }
      ]
    },
    {
      "cell_type": "code",
      "metadata": {
        "colab": {
          "base_uri": "https://localhost:8080/",
          "height": 296
        },
        "id": "SNMkJPxI28bY",
        "outputId": "fac68cfa-231c-440b-c816-3ed6dff7d19b"
      },
      "source": [
        "plt.plot(t_1,c_N2_2,'o-',label = r'$N_2$')\n",
        "plt.plot(t_1,c_H2_2,'o-',label = r'$H_2$')\n",
        "plt.ylabel('Concentration mol/L')\n",
        "plt.xlabel('time min')\n",
        "plt.title(r'$N_2:H_2:He=1:1:2$')\n",
        "plt.legend()\n",
        "plt.show()"
      ],
      "execution_count": null,
      "outputs": [
        {
          "output_type": "display_data",
          "data": {
            "image/png": "[encoded data removed]",
            "text/plain": [
              "<Figure size 432x288 with 1 Axes>"
            ]
          },
          "metadata": {
            "needs_background": "light"
          }
        }
      ]
    },
    {
      "cell_type": "code",
      "metadata": {
        "colab": {
          "base_uri": "https://localhost:8080/",
          "height": 296
        },
        "id": "FKh2s2_G28fg",
        "outputId": "b87c267b-c4f5-4e42-9fb0-0e70def0b308"
      },
      "source": [
        "plt.plot(t_1,c_N2_3,'o-',label = r'$N_2$')\n",
        "plt.plot(t_1,c_H2_3,'o-',label = r'$H_2$')\n",
        "plt.ylabel('Concentration mol/L')\n",
        "plt.xlabel('time min')\n",
        "plt.title(r'$N_2:H_2:He=1:3:0$')\n",
        "plt.legend()\n",
        "plt.show()"
      ],
      "execution_count": null,
      "outputs": [
        {
          "output_type": "display_data",
          "data": {
            "image/png": "[encoded data removed]",
            "text/plain": [
              "<Figure size 432x288 with 1 Axes>"
            ]
          },
          "metadata": {
            "needs_background": "light"
          }
        }
      ]
    },
    {
      "cell_type": "markdown",
      "metadata": {
        "id": "MDhFUblvns36"
      },
      "source": [
        "### 4.3 Use finite differences to make a table of reaction rates (moles/time/volume) vs composition (mol/vol $\\ce{N2}$ and $\\ce{H2}$)."
      ]
    },
    {
      "cell_type": "markdown",
      "metadata": {
        "id": "too_-Ouf5-gO"
      },
      "source": [
        "$r = \\frac{c(t_2)-c(t_1)}{t_2-t_1}$"
      ]
    },
    {
      "cell_type": "code",
      "metadata": {
        "id": "7e9e9H0sR63g"
      },
      "source": [
        " # using second order accurate central differences in the interior points and the boundaries.\n",
        "r_1 = (-1)*np.gradient(c_N2_1, t_1, edge_order=2) \n",
        "r_2 = (-1)*np.gradient(c_N2_2, t_2, edge_order=2)\n",
        "r_3 = (-1)*np.gradient(c_N2_3, t_3, edge_order=2)"
      ],
      "execution_count": null,
      "outputs": []
    },
    {
      "cell_type": "code",
      "metadata": {
        "colab": {
          "base_uri": "https://localhost:8080/"
        },
        "id": "XX1NaW-aAWCR",
        "outputId": "5b098113-8fee-4278-9a87-5fd02f520857"
      },
      "source": [
        "#3:1:0\n",
        "print(r'rate mol/min/L   $N_2$ concentration mol/L   $H_2$ concentration mol/L')\n",
        "for i in range(len(r_1)):\n",
        "  print(round(r_1[i],6),round(c_N2_1[i],4),round(c_H2_1[i],4))"
      ],
      "execution_count": null,
      "outputs": [
        {
          "output_type": "stream",
          "name": "stdout",
          "text": [
            "rate mol/min/L   $N_2$ concentration mol/L   $H_2$ concentration mol/L\n",
            "2.8e-05 0.0309 0.0103\n",
            "2.4e-05 0.0305 0.0089\n",
            "2.6e-05 0.0302 0.0081\n",
            "2.8e-05 0.0298 0.0071\n",
            "2.7e-05 0.0295 0.0061\n"
          ]
        }
      ]
    },
    {
      "cell_type": "code",
      "metadata": {
        "colab": {
          "base_uri": "https://localhost:8080/"
        },
        "id": "hVOdxOhmAiG2",
        "outputId": "f399ea52-1998-48e6-8931-f581c367968f"
      },
      "source": [
        "#1:1:2\n",
        "print(r'rate mol/min/L   $N_2$ concentration mol/L   $H_2$ concentration mol/L')\n",
        "for i in range(len(r_1)):\n",
        "  print(round(r_2[i],7),round(c_N2_2[i],4),round(c_H2_2[i],4))"
      ],
      "execution_count": null,
      "outputs": [
        {
          "output_type": "stream",
          "name": "stdout",
          "text": [
            "rate mol/min/L   $N_2$ concentration mol/L   $H_2$ concentration mol/L\n",
            "1.65e-05 0.0101 0.0101\n",
            "1.2e-05 0.0099 0.0095\n",
            "1.26e-05 0.0098 0.0091\n",
            "1.43e-05 0.0095 0.0084\n",
            "1.32e-05 0.0094 0.008\n"
          ]
        }
      ]
    },
    {
      "cell_type": "code",
      "metadata": {
        "colab": {
          "base_uri": "https://localhost:8080/"
        },
        "id": "foH2MzEIAl5k",
        "outputId": "5ad986a6-7b69-4421-9aa7-00a415ce265a"
      },
      "source": [
        "#3:1:0\n",
        "print(r'rate mol/min/L   $N_2$ concentration mol/L   $H_2$ concentration mol/L')\n",
        "for i in range(len(r_1)):\n",
        "  print(round(r_3[i],6),round(c_N2_3[i],4),round(c_H2_3[i],4))"
      ],
      "execution_count": null,
      "outputs": [
        {
          "output_type": "stream",
          "name": "stdout",
          "text": [
            "rate mol/min/L   $N_2$ concentration mol/L   $H_2$ concentration mol/L\n",
            "6e-06 0.0095 0.0285\n",
            "6e-06 0.0094 0.0283\n",
            "7e-06 0.0093 0.028\n",
            "1e-05 0.0092 0.0276\n",
            "1.2e-05 0.0091 0.0273\n"
          ]
        }
      ]
    },
    {
      "cell_type": "markdown",
      "metadata": {
        "id": "lqJp1c7Nns37"
      },
      "source": [
        "### 4.4 Use your rate data to determine a rate law and rate constant for the reaction at these conditions."
      ]
    },
    {
      "cell_type": "code",
      "metadata": {
        "id": "SBLGkvuPns37",
        "colab": {
          "base_uri": "https://localhost:8080/",
          "height": 358
        },
        "outputId": "1250722d-3f02-4fad-c665-530bfa5f3040"
      },
      "source": [
        "#curve fit with data from all three cases\n",
        "def rvsc(C,a,b,k):\n",
        "  c_N2,c_H2 = C \n",
        "  return k*c_N2**a*c_H2**b\n",
        "\n",
        "#use all data to fit\n",
        "r = np.concatenate((r_1,r_2,r_3))\n",
        "c_N2 = np.concatenate((c_N2_1,c_N2_2,c_N2_3))\n",
        "c_H2 = np.concatenate((c_H2_1,c_H2_2,c_H2_3))\n",
        "\n",
        "#curve fit\n",
        "\n",
        "popt, pcov = curve_fit(rvsc,(c_N2,c_H2),r)\n",
        "print('The rate law is r = {0:e}[N2]^{1}*[H2]^{2}'.format(popt[2], round(popt[0],2), round(popt[1],2)))\n",
        "print('rate constant is', round(popt[2],7))\n",
        "\n",
        "#a parity plot between rate from 4.3 and raw data from fit\n",
        "r_fit = rvsc((c_N2,c_H2),*popt)\n",
        "ax = plt.gca()\n",
        "ax.set_aspect(\"equal\", adjustable=\"box\")\n",
        "plt.scatter(r,r_fit)\n",
        "plt.xlabel('r mol/min/L')\n",
        "plt.ylabel('r_fit mol/min/L')\n",
        "x=np.arange(0.8e-5,3e-5,0.1e-5)\n",
        "y=x\n",
        "plt.plot(x,y)\n",
        "plt.show()\n",
        "\n",
        "print('These three data set of rate have three different regimes of value. The top right corner regime corresopond to the first cases where N2:H2:H2 = 1:3:0. From parity plot we')\n",
        "print('found that this regime has the best correlation, so we can do a curve fit only with data from case 1 and use k,a,b wo got here as inital guess.')"
      ],
      "execution_count": null,
      "outputs": [
        {
          "output_type": "stream",
          "name": "stdout",
          "text": [
            "The rate law is r = 3.653039e-05[N2]^0.57*[H2]^-0.34\n",
            "rate constant is 3.65e-05\n"
          ]
        },
        {
          "output_type": "display_data",
          "data": {
            "image/png": "[encoded data removed]",
            "text/plain": [
              "<Figure size 432x288 with 1 Axes>"
            ]
          },
          "metadata": {
            "needs_background": "light"
          }
        },
        {
          "output_type": "stream",
          "name": "stdout",
          "text": [
            "These three data set of rate have three different regimes of value. The top right corner regime corresopond to the first cases where N2:H2:H2 = 1:3:0. From parity plot we\n",
            "found that this regime has the best correlation, so we can do a curve fit only with data from case 1 and use k,a,b wo got here as inital guess.\n"
          ]
        }
      ]
    },
    {
      "cell_type": "code",
      "metadata": {
        "colab": {
          "base_uri": "https://localhost:8080/",
          "height": 341
        },
        "id": "ACgphAtmaS1e",
        "outputId": "966ce897-2463-4f6b-c9b3-4790ebb8d9fe"
      },
      "source": [
        "#curve fit only with data from 1:3:0 case\n",
        "\n",
        "r = r_1\n",
        "c_N2 = c_N2_1\n",
        "c_H2 = c_H2_1\n",
        "\n",
        "#curve fit\n",
        "\n",
        "popt, pcov = curve_fit(rvsc,(c_N2,c_H2),r,[0.6,-0.3,3.653039e-05],maxfev = 100000)\n",
        "print('The rate law is r = {0:e}[N2]^{1}*[H2]^{2}'.format(popt[2], round(popt[0],2), round(popt[1],2)))\n",
        "print('rate constant is', round(popt[2],7))\n",
        "\n",
        "r_fit = rvsc((c_N2,c_H2),*popt)\n",
        "\n",
        "ax = plt.gca()\n",
        "ax.set_aspect(\"equal\", adjustable=\"box\")\n",
        "plt.scatter(r,r_fit)\n",
        "plt.xlabel('r')\n",
        "plt.ylabel('r_fit')\n",
        "x=np.arange(2.3e-5,3e-5,0.1e-5)\n",
        "y=x\n",
        "plt.plot(x,y)\n",
        "plt.show()\n",
        "\n",
        "print('It turns our that even using the inital guess from previous calculation, we cant get a similar results with only one set of data.')"
      ],
      "execution_count": null,
      "outputs": [
        {
          "output_type": "stream",
          "name": "stdout",
          "text": [
            "The rate law is r = 5.614384e+25[N2]^22.85*[H2]^-2.1\n",
            "rate constant is 5.614384183278626e+25\n"
          ]
        },
        {
          "output_type": "display_data",
          "data": {
            "image/png": "[encoded data removed]",
            "text/plain": [
              "<Figure size 432x288 with 1 Axes>"
            ]
          },
          "metadata": {
            "needs_background": "light"
          }
        },
        {
          "output_type": "stream",
          "name": "stdout",
          "text": [
            "It turns our that even using the inital guess from previous calculation, we cant get a similar results with only one set of data.\n"
          ]
        }
      ]
    }
  ]
}